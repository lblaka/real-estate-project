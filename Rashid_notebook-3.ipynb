{
 "cells": [
  {
   "cell_type": "code",
   "execution_count": 1,
   "metadata": {},
   "outputs": [],
   "source": [
    "import numpy as np\n",
    "import pandas as pd\n",
    "import matplotlib.pyplot as plt\n",
    "import seaborn as sns\n",
    "%matplotlib inline\n",
    "from sklearn.linear_model import LinearRegression\n",
    "from sklearn.model_selection import train_test_split\n",
    "from sklearn.preprocessing import PolynomialFeatures\n",
    "import statsmodels.api as sm\n",
    "from sklearn.preprocessing import OneHotEncoder, StandardScaler\n",
    "from sklearn.metrics import mean_squared_error\n"
   ]
  },
  {
   "cell_type": "code",
   "execution_count": 2,
   "metadata": {},
   "outputs": [
    {
     "data": {
      "text/html": [
       "<div>\n",
       "<style scoped>\n",
       "    .dataframe tbody tr th:only-of-type {\n",
       "        vertical-align: middle;\n",
       "    }\n",
       "\n",
       "    .dataframe tbody tr th {\n",
       "        vertical-align: top;\n",
       "    }\n",
       "\n",
       "    .dataframe thead th {\n",
       "        text-align: right;\n",
       "    }\n",
       "</style>\n",
       "<table border=\"1\" class=\"dataframe\">\n",
       "  <thead>\n",
       "    <tr style=\"text-align: right;\">\n",
       "      <th></th>\n",
       "      <th>date</th>\n",
       "      <th>price</th>\n",
       "      <th>bedrooms</th>\n",
       "      <th>bathrooms</th>\n",
       "      <th>sqft_living</th>\n",
       "      <th>sqft_lot</th>\n",
       "      <th>floors</th>\n",
       "      <th>waterfront</th>\n",
       "      <th>view</th>\n",
       "      <th>condition</th>\n",
       "      <th>grade</th>\n",
       "      <th>sqft_above</th>\n",
       "      <th>sqft_basement</th>\n",
       "      <th>yr_built</th>\n",
       "      <th>yr_renovated</th>\n",
       "      <th>zipcode</th>\n",
       "      <th>lat</th>\n",
       "      <th>long</th>\n",
       "      <th>sqft_living15</th>\n",
       "      <th>sqft_lot15</th>\n",
       "    </tr>\n",
       "    <tr>\n",
       "      <th>id</th>\n",
       "      <th></th>\n",
       "      <th></th>\n",
       "      <th></th>\n",
       "      <th></th>\n",
       "      <th></th>\n",
       "      <th></th>\n",
       "      <th></th>\n",
       "      <th></th>\n",
       "      <th></th>\n",
       "      <th></th>\n",
       "      <th></th>\n",
       "      <th></th>\n",
       "      <th></th>\n",
       "      <th></th>\n",
       "      <th></th>\n",
       "      <th></th>\n",
       "      <th></th>\n",
       "      <th></th>\n",
       "      <th></th>\n",
       "      <th></th>\n",
       "    </tr>\n",
       "  </thead>\n",
       "  <tbody>\n",
       "    <tr>\n",
       "      <th>7129300520</th>\n",
       "      <td>10/13/2014</td>\n",
       "      <td>221900.0</td>\n",
       "      <td>3</td>\n",
       "      <td>1.00</td>\n",
       "      <td>1180</td>\n",
       "      <td>5650</td>\n",
       "      <td>1.0</td>\n",
       "      <td>NaN</td>\n",
       "      <td>0.0</td>\n",
       "      <td>3</td>\n",
       "      <td>7</td>\n",
       "      <td>1180</td>\n",
       "      <td>0.0</td>\n",
       "      <td>1955</td>\n",
       "      <td>0.0</td>\n",
       "      <td>98178</td>\n",
       "      <td>47.5112</td>\n",
       "      <td>-122.257</td>\n",
       "      <td>1340</td>\n",
       "      <td>5650</td>\n",
       "    </tr>\n",
       "    <tr>\n",
       "      <th>6414100192</th>\n",
       "      <td>12/9/2014</td>\n",
       "      <td>538000.0</td>\n",
       "      <td>3</td>\n",
       "      <td>2.25</td>\n",
       "      <td>2570</td>\n",
       "      <td>7242</td>\n",
       "      <td>2.0</td>\n",
       "      <td>0.0</td>\n",
       "      <td>0.0</td>\n",
       "      <td>3</td>\n",
       "      <td>7</td>\n",
       "      <td>2170</td>\n",
       "      <td>400.0</td>\n",
       "      <td>1951</td>\n",
       "      <td>1991.0</td>\n",
       "      <td>98125</td>\n",
       "      <td>47.7210</td>\n",
       "      <td>-122.319</td>\n",
       "      <td>1690</td>\n",
       "      <td>7639</td>\n",
       "    </tr>\n",
       "    <tr>\n",
       "      <th>5631500400</th>\n",
       "      <td>2/25/2015</td>\n",
       "      <td>180000.0</td>\n",
       "      <td>2</td>\n",
       "      <td>1.00</td>\n",
       "      <td>770</td>\n",
       "      <td>10000</td>\n",
       "      <td>1.0</td>\n",
       "      <td>0.0</td>\n",
       "      <td>0.0</td>\n",
       "      <td>3</td>\n",
       "      <td>6</td>\n",
       "      <td>770</td>\n",
       "      <td>0.0</td>\n",
       "      <td>1933</td>\n",
       "      <td>NaN</td>\n",
       "      <td>98028</td>\n",
       "      <td>47.7379</td>\n",
       "      <td>-122.233</td>\n",
       "      <td>2720</td>\n",
       "      <td>8062</td>\n",
       "    </tr>\n",
       "    <tr>\n",
       "      <th>2487200875</th>\n",
       "      <td>12/9/2014</td>\n",
       "      <td>604000.0</td>\n",
       "      <td>4</td>\n",
       "      <td>3.00</td>\n",
       "      <td>1960</td>\n",
       "      <td>5000</td>\n",
       "      <td>1.0</td>\n",
       "      <td>0.0</td>\n",
       "      <td>0.0</td>\n",
       "      <td>5</td>\n",
       "      <td>7</td>\n",
       "      <td>1050</td>\n",
       "      <td>910.0</td>\n",
       "      <td>1965</td>\n",
       "      <td>0.0</td>\n",
       "      <td>98136</td>\n",
       "      <td>47.5208</td>\n",
       "      <td>-122.393</td>\n",
       "      <td>1360</td>\n",
       "      <td>5000</td>\n",
       "    </tr>\n",
       "    <tr>\n",
       "      <th>1954400510</th>\n",
       "      <td>2/18/2015</td>\n",
       "      <td>510000.0</td>\n",
       "      <td>3</td>\n",
       "      <td>2.00</td>\n",
       "      <td>1680</td>\n",
       "      <td>8080</td>\n",
       "      <td>1.0</td>\n",
       "      <td>0.0</td>\n",
       "      <td>0.0</td>\n",
       "      <td>3</td>\n",
       "      <td>8</td>\n",
       "      <td>1680</td>\n",
       "      <td>0.0</td>\n",
       "      <td>1987</td>\n",
       "      <td>0.0</td>\n",
       "      <td>98074</td>\n",
       "      <td>47.6168</td>\n",
       "      <td>-122.045</td>\n",
       "      <td>1800</td>\n",
       "      <td>7503</td>\n",
       "    </tr>\n",
       "    <tr>\n",
       "      <th>...</th>\n",
       "      <td>...</td>\n",
       "      <td>...</td>\n",
       "      <td>...</td>\n",
       "      <td>...</td>\n",
       "      <td>...</td>\n",
       "      <td>...</td>\n",
       "      <td>...</td>\n",
       "      <td>...</td>\n",
       "      <td>...</td>\n",
       "      <td>...</td>\n",
       "      <td>...</td>\n",
       "      <td>...</td>\n",
       "      <td>...</td>\n",
       "      <td>...</td>\n",
       "      <td>...</td>\n",
       "      <td>...</td>\n",
       "      <td>...</td>\n",
       "      <td>...</td>\n",
       "      <td>...</td>\n",
       "      <td>...</td>\n",
       "    </tr>\n",
       "    <tr>\n",
       "      <th>263000018</th>\n",
       "      <td>5/21/2014</td>\n",
       "      <td>360000.0</td>\n",
       "      <td>3</td>\n",
       "      <td>2.50</td>\n",
       "      <td>1530</td>\n",
       "      <td>1131</td>\n",
       "      <td>3.0</td>\n",
       "      <td>0.0</td>\n",
       "      <td>0.0</td>\n",
       "      <td>3</td>\n",
       "      <td>8</td>\n",
       "      <td>1530</td>\n",
       "      <td>0.0</td>\n",
       "      <td>2009</td>\n",
       "      <td>0.0</td>\n",
       "      <td>98103</td>\n",
       "      <td>47.6993</td>\n",
       "      <td>-122.346</td>\n",
       "      <td>1530</td>\n",
       "      <td>1509</td>\n",
       "    </tr>\n",
       "    <tr>\n",
       "      <th>6600060120</th>\n",
       "      <td>2/23/2015</td>\n",
       "      <td>400000.0</td>\n",
       "      <td>4</td>\n",
       "      <td>2.50</td>\n",
       "      <td>2310</td>\n",
       "      <td>5813</td>\n",
       "      <td>2.0</td>\n",
       "      <td>0.0</td>\n",
       "      <td>0.0</td>\n",
       "      <td>3</td>\n",
       "      <td>8</td>\n",
       "      <td>2310</td>\n",
       "      <td>0.0</td>\n",
       "      <td>2014</td>\n",
       "      <td>0.0</td>\n",
       "      <td>98146</td>\n",
       "      <td>47.5107</td>\n",
       "      <td>-122.362</td>\n",
       "      <td>1830</td>\n",
       "      <td>7200</td>\n",
       "    </tr>\n",
       "    <tr>\n",
       "      <th>1523300141</th>\n",
       "      <td>6/23/2014</td>\n",
       "      <td>402101.0</td>\n",
       "      <td>2</td>\n",
       "      <td>0.75</td>\n",
       "      <td>1020</td>\n",
       "      <td>1350</td>\n",
       "      <td>2.0</td>\n",
       "      <td>0.0</td>\n",
       "      <td>0.0</td>\n",
       "      <td>3</td>\n",
       "      <td>7</td>\n",
       "      <td>1020</td>\n",
       "      <td>0.0</td>\n",
       "      <td>2009</td>\n",
       "      <td>0.0</td>\n",
       "      <td>98144</td>\n",
       "      <td>47.5944</td>\n",
       "      <td>-122.299</td>\n",
       "      <td>1020</td>\n",
       "      <td>2007</td>\n",
       "    </tr>\n",
       "    <tr>\n",
       "      <th>291310100</th>\n",
       "      <td>1/16/2015</td>\n",
       "      <td>400000.0</td>\n",
       "      <td>3</td>\n",
       "      <td>2.50</td>\n",
       "      <td>1600</td>\n",
       "      <td>2388</td>\n",
       "      <td>2.0</td>\n",
       "      <td>NaN</td>\n",
       "      <td>0.0</td>\n",
       "      <td>3</td>\n",
       "      <td>8</td>\n",
       "      <td>1600</td>\n",
       "      <td>0.0</td>\n",
       "      <td>2004</td>\n",
       "      <td>0.0</td>\n",
       "      <td>98027</td>\n",
       "      <td>47.5345</td>\n",
       "      <td>-122.069</td>\n",
       "      <td>1410</td>\n",
       "      <td>1287</td>\n",
       "    </tr>\n",
       "    <tr>\n",
       "      <th>1523300157</th>\n",
       "      <td>10/15/2014</td>\n",
       "      <td>325000.0</td>\n",
       "      <td>2</td>\n",
       "      <td>0.75</td>\n",
       "      <td>1020</td>\n",
       "      <td>1076</td>\n",
       "      <td>2.0</td>\n",
       "      <td>0.0</td>\n",
       "      <td>0.0</td>\n",
       "      <td>3</td>\n",
       "      <td>7</td>\n",
       "      <td>1020</td>\n",
       "      <td>0.0</td>\n",
       "      <td>2008</td>\n",
       "      <td>0.0</td>\n",
       "      <td>98144</td>\n",
       "      <td>47.5941</td>\n",
       "      <td>-122.299</td>\n",
       "      <td>1020</td>\n",
       "      <td>1357</td>\n",
       "    </tr>\n",
       "  </tbody>\n",
       "</table>\n",
       "<p>21597 rows × 20 columns</p>\n",
       "</div>"
      ],
      "text/plain": [
       "                  date     price  bedrooms  bathrooms  sqft_living  sqft_lot  \\\n",
       "id                                                                             \n",
       "7129300520  10/13/2014  221900.0         3       1.00         1180      5650   \n",
       "6414100192   12/9/2014  538000.0         3       2.25         2570      7242   \n",
       "5631500400   2/25/2015  180000.0         2       1.00          770     10000   \n",
       "2487200875   12/9/2014  604000.0         4       3.00         1960      5000   \n",
       "1954400510   2/18/2015  510000.0         3       2.00         1680      8080   \n",
       "...                ...       ...       ...        ...          ...       ...   \n",
       "263000018    5/21/2014  360000.0         3       2.50         1530      1131   \n",
       "6600060120   2/23/2015  400000.0         4       2.50         2310      5813   \n",
       "1523300141   6/23/2014  402101.0         2       0.75         1020      1350   \n",
       "291310100    1/16/2015  400000.0         3       2.50         1600      2388   \n",
       "1523300157  10/15/2014  325000.0         2       0.75         1020      1076   \n",
       "\n",
       "            floors  waterfront  view  condition  grade  sqft_above  \\\n",
       "id                                                                   \n",
       "7129300520     1.0         NaN   0.0          3      7        1180   \n",
       "6414100192     2.0         0.0   0.0          3      7        2170   \n",
       "5631500400     1.0         0.0   0.0          3      6         770   \n",
       "2487200875     1.0         0.0   0.0          5      7        1050   \n",
       "1954400510     1.0         0.0   0.0          3      8        1680   \n",
       "...            ...         ...   ...        ...    ...         ...   \n",
       "263000018      3.0         0.0   0.0          3      8        1530   \n",
       "6600060120     2.0         0.0   0.0          3      8        2310   \n",
       "1523300141     2.0         0.0   0.0          3      7        1020   \n",
       "291310100      2.0         NaN   0.0          3      8        1600   \n",
       "1523300157     2.0         0.0   0.0          3      7        1020   \n",
       "\n",
       "           sqft_basement  yr_built  yr_renovated  zipcode      lat     long  \\\n",
       "id                                                                            \n",
       "7129300520           0.0      1955           0.0    98178  47.5112 -122.257   \n",
       "6414100192         400.0      1951        1991.0    98125  47.7210 -122.319   \n",
       "5631500400           0.0      1933           NaN    98028  47.7379 -122.233   \n",
       "2487200875         910.0      1965           0.0    98136  47.5208 -122.393   \n",
       "1954400510           0.0      1987           0.0    98074  47.6168 -122.045   \n",
       "...                  ...       ...           ...      ...      ...      ...   \n",
       "263000018            0.0      2009           0.0    98103  47.6993 -122.346   \n",
       "6600060120           0.0      2014           0.0    98146  47.5107 -122.362   \n",
       "1523300141           0.0      2009           0.0    98144  47.5944 -122.299   \n",
       "291310100            0.0      2004           0.0    98027  47.5345 -122.069   \n",
       "1523300157           0.0      2008           0.0    98144  47.5941 -122.299   \n",
       "\n",
       "            sqft_living15  sqft_lot15  \n",
       "id                                     \n",
       "7129300520           1340        5650  \n",
       "6414100192           1690        7639  \n",
       "5631500400           2720        8062  \n",
       "2487200875           1360        5000  \n",
       "1954400510           1800        7503  \n",
       "...                   ...         ...  \n",
       "263000018            1530        1509  \n",
       "6600060120           1830        7200  \n",
       "1523300141           1020        2007  \n",
       "291310100            1410        1287  \n",
       "1523300157           1020        1357  \n",
       "\n",
       "[21597 rows x 20 columns]"
      ]
     },
     "execution_count": 2,
     "metadata": {},
     "output_type": "execute_result"
    }
   ],
   "source": [
    "data = pd.read_csv('kc_house_data.csv', index_col = 0)\n",
    "data"
   ]
  },
  {
   "cell_type": "code",
   "execution_count": 3,
   "metadata": {},
   "outputs": [
    {
     "data": {
      "text/plain": [
       "(21597, 20)"
      ]
     },
     "execution_count": 3,
     "metadata": {},
     "output_type": "execute_result"
    }
   ],
   "source": [
    "data.shape"
   ]
  },
  {
   "cell_type": "code",
   "execution_count": 4,
   "metadata": {
    "scrolled": true
   },
   "outputs": [
    {
     "data": {
      "text/plain": [
       "date                0\n",
       "price               0\n",
       "bedrooms            0\n",
       "bathrooms           0\n",
       "sqft_living         0\n",
       "sqft_lot            0\n",
       "floors              0\n",
       "waterfront       2376\n",
       "view               63\n",
       "condition           0\n",
       "grade               0\n",
       "sqft_above          0\n",
       "sqft_basement       0\n",
       "yr_built            0\n",
       "yr_renovated     3842\n",
       "zipcode             0\n",
       "lat                 0\n",
       "long                0\n",
       "sqft_living15       0\n",
       "sqft_lot15          0\n",
       "dtype: int64"
      ]
     },
     "execution_count": 4,
     "metadata": {},
     "output_type": "execute_result"
    }
   ],
   "source": [
    "data.isna().sum()"
   ]
  },
  {
   "cell_type": "code",
   "execution_count": 5,
   "metadata": {},
   "outputs": [],
   "source": [
    "data['yr_renovated'] = data[\"yr_renovated\"].fillna(0)"
   ]
  },
  {
   "cell_type": "code",
   "execution_count": 6,
   "metadata": {},
   "outputs": [
    {
     "data": {
      "text/plain": [
       "(21143, 20)"
      ]
     },
     "execution_count": 6,
     "metadata": {},
     "output_type": "execute_result"
    }
   ],
   "source": [
    "data = data[~data['sqft_basement'].isin(['?'])]\n",
    "data.shape"
   ]
  },
  {
   "cell_type": "code",
   "execution_count": 7,
   "metadata": {},
   "outputs": [
    {
     "name": "stderr",
     "output_type": "stream",
     "text": [
      "<ipython-input-7-67c3fce2bafa>:1: SettingWithCopyWarning: \n",
      "A value is trying to be set on a copy of a slice from a DataFrame.\n",
      "Try using .loc[row_indexer,col_indexer] = value instead\n",
      "\n",
      "See the caveats in the documentation: https://pandas.pydata.org/pandas-docs/stable/user_guide/indexing.html#returning-a-view-versus-a-copy\n",
      "  data['bathrooms']=round(data['bathrooms']*2)/2\n"
     ]
    }
   ],
   "source": [
    "data['bathrooms']=round(data['bathrooms']*2)/2"
   ]
  },
  {
   "cell_type": "code",
   "execution_count": 8,
   "metadata": {},
   "outputs": [
    {
     "data": {
      "text/plain": [
       "2.0    6891\n",
       "2.5    5255\n",
       "1.0    3837\n",
       "3.0    2470\n",
       "1.5    1422\n",
       "3.5     719\n",
       "4.0     366\n",
       "4.5      96\n",
       "5.0      55\n",
       "6.0      12\n",
       "5.5       9\n",
       "8.0       3\n",
       "0.5       3\n",
       "6.5       2\n",
       "7.0       2\n",
       "7.5       1\n",
       "Name: bathrooms, dtype: int64"
      ]
     },
     "execution_count": 8,
     "metadata": {},
     "output_type": "execute_result"
    }
   ],
   "source": [
    "data['bathrooms'].value_counts()"
   ]
  },
  {
   "cell_type": "code",
   "execution_count": 9,
   "metadata": {},
   "outputs": [
    {
     "name": "stderr",
     "output_type": "stream",
     "text": [
      "<ipython-input-9-1371d73c6840>:1: SettingWithCopyWarning: \n",
      "A value is trying to be set on a copy of a slice from a DataFrame.\n",
      "Try using .loc[row_indexer,col_indexer] = value instead\n",
      "\n",
      "See the caveats in the documentation: https://pandas.pydata.org/pandas-docs/stable/user_guide/indexing.html#returning-a-view-versus-a-copy\n",
      "  data['sqft_basement']= data['sqft_basement'].astype(float, copy=False)\n"
     ]
    }
   ],
   "source": [
    "data['sqft_basement']= data['sqft_basement'].astype(float, copy=False)"
   ]
  },
  {
   "cell_type": "code",
   "execution_count": null,
   "metadata": {},
   "outputs": [],
   "source": []
  },
  {
   "cell_type": "code",
   "execution_count": 10,
   "metadata": {},
   "outputs": [
    {
     "name": "stderr",
     "output_type": "stream",
     "text": [
      "<ipython-input-10-1df61e2bf4a2>:1: SettingWithCopyWarning: \n",
      "A value is trying to be set on a copy of a slice from a DataFrame.\n",
      "Try using .loc[row_indexer,col_indexer] = value instead\n",
      "\n",
      "See the caveats in the documentation: https://pandas.pydata.org/pandas-docs/stable/user_guide/indexing.html#returning-a-view-versus-a-copy\n",
      "  data['has_basement']= np.where(data['sqft_basement']!= 0, True, False)\n"
     ]
    }
   ],
   "source": [
    "data['has_basement']= np.where(data['sqft_basement']!= 0, True, False)"
   ]
  },
  {
   "cell_type": "code",
   "execution_count": 11,
   "metadata": {},
   "outputs": [
    {
     "name": "stderr",
     "output_type": "stream",
     "text": [
      "<ipython-input-11-534eb58d893c>:1: SettingWithCopyWarning: \n",
      "A value is trying to be set on a copy of a slice from a DataFrame.\n",
      "Try using .loc[row_indexer,col_indexer] = value instead\n",
      "\n",
      "See the caveats in the documentation: https://pandas.pydata.org/pandas-docs/stable/user_guide/indexing.html#returning-a-view-versus-a-copy\n",
      "  data['is_renovated']= np.where(data['yr_renovated']!= 0, True, False)\n"
     ]
    }
   ],
   "source": [
    "data['is_renovated']= np.where(data['yr_renovated']!= 0, True, False)"
   ]
  },
  {
   "cell_type": "code",
   "execution_count": 12,
   "metadata": {},
   "outputs": [
    {
     "name": "stderr",
     "output_type": "stream",
     "text": [
      "<ipython-input-12-b9c90b28d6e8>:1: SettingWithCopyWarning: \n",
      "A value is trying to be set on a copy of a slice from a DataFrame.\n",
      "Try using .loc[row_indexer,col_indexer] = value instead\n",
      "\n",
      "See the caveats in the documentation: https://pandas.pydata.org/pandas-docs/stable/user_guide/indexing.html#returning-a-view-versus-a-copy\n",
      "  data['date'] = pd.to_datetime(data['date'])\n",
      "<ipython-input-12-b9c90b28d6e8>:2: SettingWithCopyWarning: \n",
      "A value is trying to be set on a copy of a slice from a DataFrame.\n",
      "Try using .loc[row_indexer,col_indexer] = value instead\n",
      "\n",
      "See the caveats in the documentation: https://pandas.pydata.org/pandas-docs/stable/user_guide/indexing.html#returning-a-view-versus-a-copy\n",
      "  data['month']= data['date'].dt.month\n"
     ]
    }
   ],
   "source": [
    "data['date'] = pd.to_datetime(data['date'])\n",
    "data['month']= data['date'].dt.month\n",
    "data = data.assign(season=lambda x: x[\"date\"].apply(lambda s: [\"winter\",\"spring\",\"summer\",\"fall\"][(s.month-1)//3]))"
   ]
  },
  {
   "cell_type": "code",
   "execution_count": 13,
   "metadata": {},
   "outputs": [
    {
     "data": {
      "image/png": "[encoded data removed]",
      "text/plain": [
       "<Figure size 432x288 with 1 Axes>"
      ]
     },
     "metadata": {
      "needs_background": "light"
     },
     "output_type": "display_data"
    }
   ],
   "source": [
    "sns.histplot(data=data['season']);"
   ]
  },
  {
   "cell_type": "code",
   "execution_count": 14,
   "metadata": {},
   "outputs": [
    {
     "name": "stdout",
     "output_type": "stream",
     "text": [
      "<class 'pandas.core.frame.DataFrame'>\n",
      "Int64Index: 21143 entries, 7129300520 to 1523300157\n",
      "Data columns (total 24 columns):\n",
      " #   Column         Non-Null Count  Dtype         \n",
      "---  ------         --------------  -----         \n",
      " 0   date           21143 non-null  datetime64[ns]\n",
      " 1   price          21143 non-null  float64       \n",
      " 2   bedrooms       21143 non-null  int64         \n",
      " 3   bathrooms      21143 non-null  float64       \n",
      " 4   sqft_living    21143 non-null  int64         \n",
      " 5   sqft_lot       21143 non-null  int64         \n",
      " 6   floors         21143 non-null  float64       \n",
      " 7   waterfront     18804 non-null  float64       \n",
      " 8   view           21082 non-null  float64       \n",
      " 9   condition      21143 non-null  int64         \n",
      " 10  grade          21143 non-null  int64         \n",
      " 11  sqft_above     21143 non-null  int64         \n",
      " 12  sqft_basement  21143 non-null  float64       \n",
      " 13  yr_built       21143 non-null  int64         \n",
      " 14  yr_renovated   21143 non-null  float64       \n",
      " 15  zipcode        21143 non-null  int64         \n",
      " 16  lat            21143 non-null  float64       \n",
      " 17  long           21143 non-null  float64       \n",
      " 18  sqft_living15  21143 non-null  int64         \n",
      " 19  sqft_lot15     21143 non-null  int64         \n",
      " 20  has_basement   21143 non-null  bool          \n",
      " 21  is_renovated   21143 non-null  bool          \n",
      " 22  month          21143 non-null  int64         \n",
      " 23  season         21143 non-null  object        \n",
      "dtypes: bool(2), datetime64[ns](1), float64(9), int64(11), object(1)\n",
      "memory usage: 3.8+ MB\n"
     ]
    }
   ],
   "source": [
    "data.info()"
   ]
  },
  {
   "cell_type": "code",
   "execution_count": 15,
   "metadata": {},
   "outputs": [],
   "source": [
    "data.drop(['waterfront','view', 'sqft_above', 'zipcode','month', 'yr_renovated','sqft_basement'], axis=1, inplace=True)"
   ]
  },
  {
   "cell_type": "code",
   "execution_count": 16,
   "metadata": {},
   "outputs": [
    {
     "data": {
      "text/plain": [
       "Index(['date', 'price', 'bedrooms', 'bathrooms', 'sqft_living', 'sqft_lot',\n",
       "       'floors', 'condition', 'grade', 'yr_built', 'lat', 'long',\n",
       "       'sqft_living15', 'sqft_lot15', 'has_basement', 'is_renovated',\n",
       "       'season'],\n",
       "      dtype='object')"
      ]
     },
     "execution_count": 16,
     "metadata": {},
     "output_type": "execute_result"
    }
   ],
   "source": [
    "data.columns"
   ]
  },
  {
   "cell_type": "code",
   "execution_count": 17,
   "metadata": {},
   "outputs": [
    {
     "data": {
      "image/png": "[encoded data removed]",
      "text/plain": [
       "<Figure size 1152x216 with 4 Axes>"
      ]
     },
     "metadata": {
      "needs_background": "light"
     },
     "output_type": "display_data"
    }
   ],
   "source": [
    "fig, axes = plt.subplots(nrows=1, ncols=4, figsize=(16,3))\n",
    "\n",
    "for xcol, ax in zip(['date', 'bedrooms', 'bathrooms', 'sqft_living'], axes):\n",
    "    data.plot(kind='scatter', x=xcol, y='price', ax=ax, alpha=0.4, color='b')"
   ]
  },
  {
   "cell_type": "code",
   "execution_count": 18,
   "metadata": {},
   "outputs": [
    {
     "data": {
      "image/png": "[encoded data removed]",
      "text/plain": [
       "<Figure size 1152x216 with 4 Axes>"
      ]
     },
     "metadata": {
      "needs_background": "light"
     },
     "output_type": "display_data"
    }
   ],
   "source": [
    "fig, axes = plt.subplots(nrows=1, ncols=4, figsize=(16,3))\n",
    "\n",
    "for xcol, ax in zip(['sqft_lot', 'floors', 'condition', 'grade'], axes):\n",
    "    data.plot(kind='scatter', x=xcol, y='price', ax=ax, alpha=0.4, color='b')"
   ]
  },
  {
   "cell_type": "code",
   "execution_count": 19,
   "metadata": {},
   "outputs": [
    {
     "data": {
      "image/png": "[encoded data removed]",
      "text/plain": [
       "<Figure size 1152x216 with 4 Axes>"
      ]
     },
     "metadata": {
      "needs_background": "light"
     },
     "output_type": "display_data"
    }
   ],
   "source": [
    "fig, axes = plt.subplots(nrows=1, ncols=4, figsize=(16,3))\n",
    "\n",
    "for xcol, ax in zip(['yr_built', 'lat', 'long', 'sqft_living15'], axes):\n",
    "    data.plot(kind='scatter', x=xcol, y='price', ax=ax, alpha=0.4, color='b')\n"
   ]
  },
  {
   "cell_type": "code",
   "execution_count": 20,
   "metadata": {},
   "outputs": [
    {
     "data": {
      "image/png": "[encoded data removed]",
      "text/plain": [
       "<Figure size 1152x216 with 4 Axes>"
      ]
     },
     "metadata": {
      "needs_background": "light"
     },
     "output_type": "display_data"
    }
   ],
   "source": [
    "fig, axes = plt.subplots(nrows=1, ncols=4, figsize=(16,3))\n",
    "\n",
    "for xcol, ax in zip(['sqft_lot15','season'], axes):\n",
    "    data.plot(kind='scatter', x=xcol, y='price', ax=ax, alpha=0.4, color='b')"
   ]
  },
  {
   "cell_type": "code",
   "execution_count": 21,
   "metadata": {},
   "outputs": [],
   "source": [
    "#pd.plotting.scatter_matrix(data,figsize  = [20, 20]);\n",
    "#plt.show()"
   ]
  },
  {
   "cell_type": "code",
   "execution_count": 22,
   "metadata": {},
   "outputs": [],
   "source": [
    "discrete_features = ['bedrooms', 'bathrooms', 'floors', 'condition', 'grade', 'is_renovated','has_basement', 'season']"
   ]
  },
  {
   "cell_type": "code",
   "execution_count": 23,
   "metadata": {},
   "outputs": [
    {
     "data": {
      "image/png": "[encoded data removed]",
      "text/plain": [
       "<Figure size 864x576 with 1 Axes>"
      ]
     },
     "metadata": {
      "needs_background": "light"
     },
     "output_type": "display_data"
    },
    {
     "data": {
      "image/png": "[encoded data removed]",
      "text/plain": [
       "<Figure size 864x576 with 1 Axes>"
      ]
     },
     "metadata": {
      "needs_background": "light"
     },
     "output_type": "display_data"
    },
    {
     "data": {
      "image/png": "[encoded data removed]",
      "text/plain": [
       "<Figure size 864x576 with 1 Axes>"
      ]
     },
     "metadata": {
      "needs_background": "light"
     },
     "output_type": "display_data"
    },
    {
     "data": {
      "image/png": "[encoded data removed]",
      "text/plain": [
       "<Figure size 864x576 with 1 Axes>"
      ]
     },
     "metadata": {
      "needs_background": "light"
     },
     "output_type": "display_data"
    },
    {
     "data": {
      "image/png": "[encoded data removed]",
      "text/plain": [
       "<Figure size 864x576 with 1 Axes>"
      ]
     },
     "metadata": {
      "needs_background": "light"
     },
     "output_type": "display_data"
    },
    {
     "data": {
      "image/png": "[encoded data removed]",
      "text/plain": [
       "<Figure size 864x576 with 1 Axes>"
      ]
     },
     "metadata": {
      "needs_background": "light"
     },
     "output_type": "display_data"
    },
    {
     "data": {
      "image/png": "[encoded data removed]",
      "text/plain": [
       "<Figure size 864x576 with 1 Axes>"
      ]
     },
     "metadata": {
      "needs_background": "light"
     },
     "output_type": "display_data"
    },
    {
     "data": {
      "image/png": "[encoded data removed]",
      "text/plain": [
       "<Figure size 864x576 with 1 Axes>"
      ]
     },
     "metadata": {
      "needs_background": "light"
     },
     "output_type": "display_data"
    }
   ],
   "source": [
    "for feature in discrete_features:\n",
    "    plt.figure(figsize=(12,8))\n",
    "    sns.barplot(x=feature, y='price', data=data)"
   ]
  },
  {
   "cell_type": "code",
   "execution_count": 24,
   "metadata": {},
   "outputs": [
    {
     "data": {
      "text/plain": [
       "['sqft_living',\n",
       " 'sqft_lot',\n",
       " 'yr_built',\n",
       " 'lat',\n",
       " 'long',\n",
       " 'sqft_living15',\n",
       " 'sqft_lot15']"
      ]
     },
     "execution_count": 24,
     "metadata": {},
     "output_type": "execute_result"
    }
   ],
   "source": [
    "continuous_features = [feature for feature in data.columns if feature not in discrete_features+['price']+['date']]\n",
    "continuous_features"
   ]
  },
  {
   "cell_type": "code",
   "execution_count": 25,
   "metadata": {},
   "outputs": [
    {
     "data": {
      "text/plain": [
       "<Figure size 432x288 with 0 Axes>"
      ]
     },
     "metadata": {},
     "output_type": "display_data"
    },
    {
     "data": {
      "image/png": "[encoded data removed]",
      "text/plain": [
       "<Figure size 360x360 with 1 Axes>"
      ]
     },
     "metadata": {
      "needs_background": "light"
     },
     "output_type": "display_data"
    },
    {
     "data": {
      "text/plain": [
       "<Figure size 432x288 with 0 Axes>"
      ]
     },
     "metadata": {},
     "output_type": "display_data"
    },
    {
     "data": {
      "image/png": "[encoded data removed]",
      "text/plain": [
       "<Figure size 360x360 with 1 Axes>"
      ]
     },
     "metadata": {
      "needs_background": "light"
     },
     "output_type": "display_data"
    },
    {
     "data": {
      "text/plain": [
       "<Figure size 432x288 with 0 Axes>"
      ]
     },
     "metadata": {},
     "output_type": "display_data"
    },
    {
     "data": {
      "image/png": "[encoded data removed]",
      "text/plain": [
       "<Figure size 360x360 with 1 Axes>"
      ]
     },
     "metadata": {
      "needs_background": "light"
     },
     "output_type": "display_data"
    },
    {
     "data": {
      "text/plain": [
       "<Figure size 432x288 with 0 Axes>"
      ]
     },
     "metadata": {},
     "output_type": "display_data"
    },
    {
     "data": {
      "image/png": "[encoded data removed]",
      "text/plain": [
       "<Figure size 360x360 with 1 Axes>"
      ]
     },
     "metadata": {
      "needs_background": "light"
     },
     "output_type": "display_data"
    },
    {
     "data": {
      "text/plain": [
       "<Figure size 432x288 with 0 Axes>"
      ]
     },
     "metadata": {},
     "output_type": "display_data"
    },
    {
     "data": {
      "image/png": "[encoded data removed]",
      "text/plain": [
       "<Figure size 360x360 with 1 Axes>"
      ]
     },
     "metadata": {
      "needs_background": "light"
     },
     "output_type": "display_data"
    },
    {
     "data": {
      "text/plain": [
       "<Figure size 432x288 with 0 Axes>"
      ]
     },
     "metadata": {},
     "output_type": "display_data"
    },
    {
     "data": {
      "image/png": "[encoded data removed]",
      "text/plain": [
       "<Figure size 360x360 with 1 Axes>"
      ]
     },
     "metadata": {
      "needs_background": "light"
     },
     "output_type": "display_data"
    },
    {
     "data": {
      "text/plain": [
       "<Figure size 432x288 with 0 Axes>"
      ]
     },
     "metadata": {},
     "output_type": "display_data"
    },
    {
     "data": {
      "image/png": "[encoded data removed]",
      "text/plain": [
       "<Figure size 360x360 with 1 Axes>"
      ]
     },
     "metadata": {
      "needs_background": "light"
     },
     "output_type": "display_data"
    }
   ],
   "source": [
    "for feature in continuous_features:\n",
    "    plt.figure()\n",
    "    sns.displot(data[feature])"
   ]
  },
  {
   "cell_type": "code",
   "execution_count": 26,
   "metadata": {},
   "outputs": [],
   "source": [
    "def lower_limit(col):\n",
    "    lower_limit = np.mean(col)-3*np.std(col)\n",
    "    return lower_limit"
   ]
  },
  {
   "cell_type": "code",
   "execution_count": 27,
   "metadata": {},
   "outputs": [],
   "source": [
    "def upper_limit(col):\n",
    "    upper_limit = np.mean(col)+3*np.std(col)\n",
    "    return upper_limit"
   ]
  },
  {
   "cell_type": "code",
   "execution_count": 28,
   "metadata": {},
   "outputs": [],
   "source": [
    "data = data[(data['sqft_living'] >= lower_limit(data['sqft_living'])) & (data['sqft_living'] <= upper_limit(data['sqft_living']))]"
   ]
  },
  {
   "cell_type": "code",
   "execution_count": 29,
   "metadata": {},
   "outputs": [],
   "source": [
    "data = data[(data['sqft_lot'] >= lower_limit(data['sqft_lot'])) & (data['sqft_lot'] <= upper_limit(data['sqft_lot']))]"
   ]
  },
  {
   "cell_type": "code",
   "execution_count": 30,
   "metadata": {},
   "outputs": [],
   "source": [
    "data = data[(data['sqft_living15'] >= lower_limit(data['sqft_living15'])) & (data['sqft_living15'] <= upper_limit(data['sqft_living15']))]"
   ]
  },
  {
   "cell_type": "code",
   "execution_count": 31,
   "metadata": {},
   "outputs": [],
   "source": [
    "data = data[(data['sqft_lot15'] >= lower_limit(data['sqft_lot15'])) & (data['sqft_lot15'] <= upper_limit(data['sqft_lot15']))]"
   ]
  },
  {
   "cell_type": "code",
   "execution_count": 32,
   "metadata": {},
   "outputs": [
    {
     "data": {
      "text/plain": [
       "(20132, 17)"
      ]
     },
     "execution_count": 32,
     "metadata": {},
     "output_type": "execute_result"
    }
   ],
   "source": [
    "data.shape"
   ]
  },
  {
   "cell_type": "code",
   "execution_count": 33,
   "metadata": {},
   "outputs": [
    {
     "data": {
      "text/plain": [
       "33"
      ]
     },
     "execution_count": 33,
     "metadata": {},
     "output_type": "execute_result"
    }
   ],
   "source": [
    "data['bedrooms'].max()"
   ]
  },
  {
   "cell_type": "code",
   "execution_count": 34,
   "metadata": {},
   "outputs": [
    {
     "data": {
      "text/html": [
       "<div>\n",
       "<style scoped>\n",
       "    .dataframe tbody tr th:only-of-type {\n",
       "        vertical-align: middle;\n",
       "    }\n",
       "\n",
       "    .dataframe tbody tr th {\n",
       "        vertical-align: top;\n",
       "    }\n",
       "\n",
       "    .dataframe thead th {\n",
       "        text-align: right;\n",
       "    }\n",
       "</style>\n",
       "<table border=\"1\" class=\"dataframe\">\n",
       "  <thead>\n",
       "    <tr style=\"text-align: right;\">\n",
       "      <th></th>\n",
       "      <th>date</th>\n",
       "      <th>price</th>\n",
       "      <th>bedrooms</th>\n",
       "      <th>bathrooms</th>\n",
       "      <th>sqft_living</th>\n",
       "      <th>sqft_lot</th>\n",
       "      <th>floors</th>\n",
       "      <th>condition</th>\n",
       "      <th>grade</th>\n",
       "      <th>yr_built</th>\n",
       "      <th>lat</th>\n",
       "      <th>long</th>\n",
       "      <th>sqft_living15</th>\n",
       "      <th>sqft_lot15</th>\n",
       "      <th>has_basement</th>\n",
       "      <th>is_renovated</th>\n",
       "      <th>season</th>\n",
       "    </tr>\n",
       "    <tr>\n",
       "      <th>id</th>\n",
       "      <th></th>\n",
       "      <th></th>\n",
       "      <th></th>\n",
       "      <th></th>\n",
       "      <th></th>\n",
       "      <th></th>\n",
       "      <th></th>\n",
       "      <th></th>\n",
       "      <th></th>\n",
       "      <th></th>\n",
       "      <th></th>\n",
       "      <th></th>\n",
       "      <th></th>\n",
       "      <th></th>\n",
       "      <th></th>\n",
       "      <th></th>\n",
       "      <th></th>\n",
       "    </tr>\n",
       "  </thead>\n",
       "  <tbody>\n",
       "    <tr>\n",
       "      <th>2402100895</th>\n",
       "      <td>2014-06-25</td>\n",
       "      <td>640000.0</td>\n",
       "      <td>33</td>\n",
       "      <td>2.0</td>\n",
       "      <td>1620</td>\n",
       "      <td>6000</td>\n",
       "      <td>1.0</td>\n",
       "      <td>5</td>\n",
       "      <td>7</td>\n",
       "      <td>1947</td>\n",
       "      <td>47.6878</td>\n",
       "      <td>-122.331</td>\n",
       "      <td>1330</td>\n",
       "      <td>4700</td>\n",
       "      <td>True</td>\n",
       "      <td>False</td>\n",
       "      <td>spring</td>\n",
       "    </tr>\n",
       "  </tbody>\n",
       "</table>\n",
       "</div>"
      ],
      "text/plain": [
       "                 date     price  bedrooms  bathrooms  sqft_living  sqft_lot  \\\n",
       "id                                                                            \n",
       "2402100895 2014-06-25  640000.0        33        2.0         1620      6000   \n",
       "\n",
       "            floors  condition  grade  yr_built      lat     long  \\\n",
       "id                                                                 \n",
       "2402100895     1.0          5      7      1947  47.6878 -122.331   \n",
       "\n",
       "            sqft_living15  sqft_lot15  has_basement  is_renovated  season  \n",
       "id                                                                         \n",
       "2402100895           1330        4700          True         False  spring  "
      ]
     },
     "execution_count": 34,
     "metadata": {},
     "output_type": "execute_result"
    }
   ],
   "source": [
    "data[(data['bedrooms']==33)]"
   ]
  },
  {
   "cell_type": "code",
   "execution_count": 35,
   "metadata": {},
   "outputs": [
    {
     "data": {
      "text/plain": [
       "<Figure size 432x288 with 0 Axes>"
      ]
     },
     "metadata": {},
     "output_type": "display_data"
    },
    {
     "data": {
      "image/png": "[encoded data removed]",
      "text/plain": [
       "<Figure size 360x360 with 1 Axes>"
      ]
     },
     "metadata": {
      "needs_background": "light"
     },
     "output_type": "display_data"
    },
    {
     "data": {
      "text/plain": [
       "<Figure size 432x288 with 0 Axes>"
      ]
     },
     "metadata": {},
     "output_type": "display_data"
    },
    {
     "data": {
      "image/png": "[encoded data removed]",
      "text/plain": [
       "<Figure size 360x360 with 1 Axes>"
      ]
     },
     "metadata": {
      "needs_background": "light"
     },
     "output_type": "display_data"
    },
    {
     "data": {
      "text/plain": [
       "<Figure size 432x288 with 0 Axes>"
      ]
     },
     "metadata": {},
     "output_type": "display_data"
    },
    {
     "data": {
      "image/png": "[encoded data removed]",
      "text/plain": [
       "<Figure size 360x360 with 1 Axes>"
      ]
     },
     "metadata": {
      "needs_background": "light"
     },
     "output_type": "display_data"
    },
    {
     "data": {
      "text/plain": [
       "<Figure size 432x288 with 0 Axes>"
      ]
     },
     "metadata": {},
     "output_type": "display_data"
    },
    {
     "data": {
      "image/png": "[encoded data removed]",
      "text/plain": [
       "<Figure size 360x360 with 1 Axes>"
      ]
     },
     "metadata": {
      "needs_background": "light"
     },
     "output_type": "display_data"
    },
    {
     "data": {
      "text/plain": [
       "<Figure size 432x288 with 0 Axes>"
      ]
     },
     "metadata": {},
     "output_type": "display_data"
    },
    {
     "data": {
      "image/png": "[encoded data removed]",
      "text/plain": [
       "<Figure size 360x360 with 1 Axes>"
      ]
     },
     "metadata": {
      "needs_background": "light"
     },
     "output_type": "display_data"
    },
    {
     "data": {
      "text/plain": [
       "<Figure size 432x288 with 0 Axes>"
      ]
     },
     "metadata": {},
     "output_type": "display_data"
    },
    {
     "data": {
      "image/png": "[encoded data removed]",
      "text/plain": [
       "<Figure size 360x360 with 1 Axes>"
      ]
     },
     "metadata": {
      "needs_background": "light"
     },
     "output_type": "display_data"
    },
    {
     "data": {
      "text/plain": [
       "<Figure size 432x288 with 0 Axes>"
      ]
     },
     "metadata": {},
     "output_type": "display_data"
    },
    {
     "data": {
      "image/png": "[encoded data removed]",
      "text/plain": [
       "<Figure size 360x360 with 1 Axes>"
      ]
     },
     "metadata": {
      "needs_background": "light"
     },
     "output_type": "display_data"
    }
   ],
   "source": [
    "for feature in continuous_features:\n",
    "    plt.figure()\n",
    "    sns.displot(data[feature])"
   ]
  },
  {
   "cell_type": "code",
   "execution_count": 36,
   "metadata": {},
   "outputs": [
    {
     "data": {
      "text/plain": [
       "price            1.000000\n",
       "sqft_living      0.646783\n",
       "grade            0.643519\n",
       "sqft_living15    0.559560\n",
       "bathrooms        0.460184\n",
       "lat              0.363190\n",
       "bedrooms         0.287519\n",
       "floors           0.252844\n",
       "has_basement     0.180650\n",
       "is_renovated     0.126957\n",
       "sqft_lot15       0.121886\n",
       "sqft_lot         0.114806\n",
       "condition        0.057998\n",
       "yr_built         0.022773\n",
       "long             0.003176\n",
       "Name: price, dtype: float64"
      ]
     },
     "execution_count": 36,
     "metadata": {},
     "output_type": "execute_result"
    }
   ],
   "source": [
    "price_corrs = data.corr()[\"price\"].map(abs).sort_values(ascending=False)\n",
    "price_corrs"
   ]
  },
  {
   "cell_type": "code",
   "execution_count": 37,
   "metadata": {},
   "outputs": [
    {
     "data": {
      "image/png": "[encoded data removed]",
      "text/plain": [
       "<Figure size 1080x864 with 2 Axes>"
      ]
     },
     "metadata": {
      "needs_background": "light"
     },
     "output_type": "display_data"
    }
   ],
   "source": [
    "cmap = sns.diverging_palette(10, 240, as_cmap=True)\n",
    "plt.figure(figsize=(15, 12))\n",
    "heatmap = sns.heatmap(data.corr(), vmin=-1, vmax=1, annot=True, cmap=cmap)\n",
    "heatmap.set_title('Correlation Heatmap', fontdict={'fontsize':18}, pad=12);"
   ]
  },
  {
   "cell_type": "markdown",
   "metadata": {},
   "source": [
    "# Some Dummies"
   ]
  },
  {
   "cell_type": "code",
   "execution_count": 38,
   "metadata": {},
   "outputs": [],
   "source": [
    "ohe = OneHotEncoder(drop='first')"
   ]
  },
  {
   "cell_type": "code",
   "execution_count": null,
   "metadata": {},
   "outputs": [],
   "source": []
  },
  {
   "cell_type": "code",
   "execution_count": null,
   "metadata": {},
   "outputs": [],
   "source": []
  },
  {
   "cell_type": "code",
   "execution_count": 39,
   "metadata": {},
   "outputs": [],
   "source": [
    "data.drop(labels = ['sqft_living15','sqft_lot15'], axis=1, inplace=True)"
   ]
  },
  {
   "cell_type": "code",
   "execution_count": 40,
   "metadata": {},
   "outputs": [],
   "source": [
    "categoricals= ['season', 'has_basement', 'is_renovated']"
   ]
  },
  {
   "cell_type": "code",
   "execution_count": 41,
   "metadata": {},
   "outputs": [
    {
     "data": {
      "text/plain": [
       "spring    6334\n",
       "summer    5524\n",
       "fall      4425\n",
       "winter    3849\n",
       "Name: season, dtype: int64"
      ]
     },
     "execution_count": 41,
     "metadata": {},
     "output_type": "execute_result"
    }
   ],
   "source": [
    "data['season'].value_counts()"
   ]
  },
  {
   "cell_type": "code",
   "execution_count": 42,
   "metadata": {},
   "outputs": [
    {
     "data": {
      "text/plain": [
       "False    12231\n",
       "True      7901\n",
       "Name: has_basement, dtype: int64"
      ]
     },
     "execution_count": 42,
     "metadata": {},
     "output_type": "execute_result"
    }
   ],
   "source": [
    "data['has_basement'].value_counts()"
   ]
  },
  {
   "cell_type": "code",
   "execution_count": 43,
   "metadata": {
    "scrolled": true
   },
   "outputs": [
    {
     "data": {
      "text/plain": [
       "False    19445\n",
       "True       687\n",
       "Name: is_renovated, dtype: int64"
      ]
     },
     "execution_count": 43,
     "metadata": {},
     "output_type": "execute_result"
    }
   ],
   "source": [
    "data['is_renovated'].value_counts()"
   ]
  },
  {
   "cell_type": "markdown",
   "metadata": {},
   "source": []
  },
  {
   "cell_type": "code",
   "execution_count": 44,
   "metadata": {},
   "outputs": [
    {
     "data": {
      "text/html": [
       "<div>\n",
       "<style scoped>\n",
       "    .dataframe tbody tr th:only-of-type {\n",
       "        vertical-align: middle;\n",
       "    }\n",
       "\n",
       "    .dataframe tbody tr th {\n",
       "        vertical-align: top;\n",
       "    }\n",
       "\n",
       "    .dataframe thead th {\n",
       "        text-align: right;\n",
       "    }\n",
       "</style>\n",
       "<table border=\"1\" class=\"dataframe\">\n",
       "  <thead>\n",
       "    <tr style=\"text-align: right;\">\n",
       "      <th></th>\n",
       "      <th>price</th>\n",
       "      <th>bedrooms</th>\n",
       "      <th>bathrooms</th>\n",
       "      <th>sqft_living</th>\n",
       "      <th>sqft_lot</th>\n",
       "      <th>floors</th>\n",
       "      <th>condition</th>\n",
       "      <th>grade</th>\n",
       "      <th>yr_built</th>\n",
       "      <th>lat</th>\n",
       "      <th>long</th>\n",
       "      <th>is_renovated_True</th>\n",
       "      <th>has_basement_True</th>\n",
       "      <th>season_spring</th>\n",
       "      <th>season_summer</th>\n",
       "      <th>season_winter</th>\n",
       "    </tr>\n",
       "    <tr>\n",
       "      <th>id</th>\n",
       "      <th></th>\n",
       "      <th></th>\n",
       "      <th></th>\n",
       "      <th></th>\n",
       "      <th></th>\n",
       "      <th></th>\n",
       "      <th></th>\n",
       "      <th></th>\n",
       "      <th></th>\n",
       "      <th></th>\n",
       "      <th></th>\n",
       "      <th></th>\n",
       "      <th></th>\n",
       "      <th></th>\n",
       "      <th></th>\n",
       "      <th></th>\n",
       "    </tr>\n",
       "  </thead>\n",
       "  <tbody>\n",
       "    <tr>\n",
       "      <th>7129300520</th>\n",
       "      <td>221900.0</td>\n",
       "      <td>3</td>\n",
       "      <td>1.0</td>\n",
       "      <td>1180</td>\n",
       "      <td>5650</td>\n",
       "      <td>1.0</td>\n",
       "      <td>3</td>\n",
       "      <td>7</td>\n",
       "      <td>1955</td>\n",
       "      <td>47.5112</td>\n",
       "      <td>-122.257</td>\n",
       "      <td>0</td>\n",
       "      <td>0</td>\n",
       "      <td>0</td>\n",
       "      <td>0</td>\n",
       "      <td>0</td>\n",
       "    </tr>\n",
       "    <tr>\n",
       "      <th>6414100192</th>\n",
       "      <td>538000.0</td>\n",
       "      <td>3</td>\n",
       "      <td>2.0</td>\n",
       "      <td>2570</td>\n",
       "      <td>7242</td>\n",
       "      <td>2.0</td>\n",
       "      <td>3</td>\n",
       "      <td>7</td>\n",
       "      <td>1951</td>\n",
       "      <td>47.7210</td>\n",
       "      <td>-122.319</td>\n",
       "      <td>1</td>\n",
       "      <td>1</td>\n",
       "      <td>0</td>\n",
       "      <td>0</td>\n",
       "      <td>0</td>\n",
       "    </tr>\n",
       "    <tr>\n",
       "      <th>5631500400</th>\n",
       "      <td>180000.0</td>\n",
       "      <td>2</td>\n",
       "      <td>1.0</td>\n",
       "      <td>770</td>\n",
       "      <td>10000</td>\n",
       "      <td>1.0</td>\n",
       "      <td>3</td>\n",
       "      <td>6</td>\n",
       "      <td>1933</td>\n",
       "      <td>47.7379</td>\n",
       "      <td>-122.233</td>\n",
       "      <td>0</td>\n",
       "      <td>0</td>\n",
       "      <td>0</td>\n",
       "      <td>0</td>\n",
       "      <td>1</td>\n",
       "    </tr>\n",
       "    <tr>\n",
       "      <th>2487200875</th>\n",
       "      <td>604000.0</td>\n",
       "      <td>4</td>\n",
       "      <td>3.0</td>\n",
       "      <td>1960</td>\n",
       "      <td>5000</td>\n",
       "      <td>1.0</td>\n",
       "      <td>5</td>\n",
       "      <td>7</td>\n",
       "      <td>1965</td>\n",
       "      <td>47.5208</td>\n",
       "      <td>-122.393</td>\n",
       "      <td>0</td>\n",
       "      <td>1</td>\n",
       "      <td>0</td>\n",
       "      <td>0</td>\n",
       "      <td>0</td>\n",
       "    </tr>\n",
       "    <tr>\n",
       "      <th>1954400510</th>\n",
       "      <td>510000.0</td>\n",
       "      <td>3</td>\n",
       "      <td>2.0</td>\n",
       "      <td>1680</td>\n",
       "      <td>8080</td>\n",
       "      <td>1.0</td>\n",
       "      <td>3</td>\n",
       "      <td>8</td>\n",
       "      <td>1987</td>\n",
       "      <td>47.6168</td>\n",
       "      <td>-122.045</td>\n",
       "      <td>0</td>\n",
       "      <td>0</td>\n",
       "      <td>0</td>\n",
       "      <td>0</td>\n",
       "      <td>1</td>\n",
       "    </tr>\n",
       "    <tr>\n",
       "      <th>...</th>\n",
       "      <td>...</td>\n",
       "      <td>...</td>\n",
       "      <td>...</td>\n",
       "      <td>...</td>\n",
       "      <td>...</td>\n",
       "      <td>...</td>\n",
       "      <td>...</td>\n",
       "      <td>...</td>\n",
       "      <td>...</td>\n",
       "      <td>...</td>\n",
       "      <td>...</td>\n",
       "      <td>...</td>\n",
       "      <td>...</td>\n",
       "      <td>...</td>\n",
       "      <td>...</td>\n",
       "      <td>...</td>\n",
       "    </tr>\n",
       "    <tr>\n",
       "      <th>263000018</th>\n",
       "      <td>360000.0</td>\n",
       "      <td>3</td>\n",
       "      <td>2.5</td>\n",
       "      <td>1530</td>\n",
       "      <td>1131</td>\n",
       "      <td>3.0</td>\n",
       "      <td>3</td>\n",
       "      <td>8</td>\n",
       "      <td>2009</td>\n",
       "      <td>47.6993</td>\n",
       "      <td>-122.346</td>\n",
       "      <td>0</td>\n",
       "      <td>0</td>\n",
       "      <td>1</td>\n",
       "      <td>0</td>\n",
       "      <td>0</td>\n",
       "    </tr>\n",
       "    <tr>\n",
       "      <th>6600060120</th>\n",
       "      <td>400000.0</td>\n",
       "      <td>4</td>\n",
       "      <td>2.5</td>\n",
       "      <td>2310</td>\n",
       "      <td>5813</td>\n",
       "      <td>2.0</td>\n",
       "      <td>3</td>\n",
       "      <td>8</td>\n",
       "      <td>2014</td>\n",
       "      <td>47.5107</td>\n",
       "      <td>-122.362</td>\n",
       "      <td>0</td>\n",
       "      <td>0</td>\n",
       "      <td>0</td>\n",
       "      <td>0</td>\n",
       "      <td>1</td>\n",
       "    </tr>\n",
       "    <tr>\n",
       "      <th>1523300141</th>\n",
       "      <td>402101.0</td>\n",
       "      <td>2</td>\n",
       "      <td>1.0</td>\n",
       "      <td>1020</td>\n",
       "      <td>1350</td>\n",
       "      <td>2.0</td>\n",
       "      <td>3</td>\n",
       "      <td>7</td>\n",
       "      <td>2009</td>\n",
       "      <td>47.5944</td>\n",
       "      <td>-122.299</td>\n",
       "      <td>0</td>\n",
       "      <td>0</td>\n",
       "      <td>1</td>\n",
       "      <td>0</td>\n",
       "      <td>0</td>\n",
       "    </tr>\n",
       "    <tr>\n",
       "      <th>291310100</th>\n",
       "      <td>400000.0</td>\n",
       "      <td>3</td>\n",
       "      <td>2.5</td>\n",
       "      <td>1600</td>\n",
       "      <td>2388</td>\n",
       "      <td>2.0</td>\n",
       "      <td>3</td>\n",
       "      <td>8</td>\n",
       "      <td>2004</td>\n",
       "      <td>47.5345</td>\n",
       "      <td>-122.069</td>\n",
       "      <td>0</td>\n",
       "      <td>0</td>\n",
       "      <td>0</td>\n",
       "      <td>0</td>\n",
       "      <td>1</td>\n",
       "    </tr>\n",
       "    <tr>\n",
       "      <th>1523300157</th>\n",
       "      <td>325000.0</td>\n",
       "      <td>2</td>\n",
       "      <td>1.0</td>\n",
       "      <td>1020</td>\n",
       "      <td>1076</td>\n",
       "      <td>2.0</td>\n",
       "      <td>3</td>\n",
       "      <td>7</td>\n",
       "      <td>2008</td>\n",
       "      <td>47.5941</td>\n",
       "      <td>-122.299</td>\n",
       "      <td>0</td>\n",
       "      <td>0</td>\n",
       "      <td>0</td>\n",
       "      <td>0</td>\n",
       "      <td>0</td>\n",
       "    </tr>\n",
       "  </tbody>\n",
       "</table>\n",
       "<p>20132 rows × 16 columns</p>\n",
       "</div>"
      ],
      "text/plain": [
       "               price  bedrooms  bathrooms  sqft_living  sqft_lot  floors  \\\n",
       "id                                                                         \n",
       "7129300520  221900.0         3        1.0         1180      5650     1.0   \n",
       "6414100192  538000.0         3        2.0         2570      7242     2.0   \n",
       "5631500400  180000.0         2        1.0          770     10000     1.0   \n",
       "2487200875  604000.0         4        3.0         1960      5000     1.0   \n",
       "1954400510  510000.0         3        2.0         1680      8080     1.0   \n",
       "...              ...       ...        ...          ...       ...     ...   \n",
       "263000018   360000.0         3        2.5         1530      1131     3.0   \n",
       "6600060120  400000.0         4        2.5         2310      5813     2.0   \n",
       "1523300141  402101.0         2        1.0         1020      1350     2.0   \n",
       "291310100   400000.0         3        2.5         1600      2388     2.0   \n",
       "1523300157  325000.0         2        1.0         1020      1076     2.0   \n",
       "\n",
       "            condition  grade  yr_built      lat     long  is_renovated_True  \\\n",
       "id                                                                            \n",
       "7129300520          3      7      1955  47.5112 -122.257                  0   \n",
       "6414100192          3      7      1951  47.7210 -122.319                  1   \n",
       "5631500400          3      6      1933  47.7379 -122.233                  0   \n",
       "2487200875          5      7      1965  47.5208 -122.393                  0   \n",
       "1954400510          3      8      1987  47.6168 -122.045                  0   \n",
       "...               ...    ...       ...      ...      ...                ...   \n",
       "263000018           3      8      2009  47.6993 -122.346                  0   \n",
       "6600060120          3      8      2014  47.5107 -122.362                  0   \n",
       "1523300141          3      7      2009  47.5944 -122.299                  0   \n",
       "291310100           3      8      2004  47.5345 -122.069                  0   \n",
       "1523300157          3      7      2008  47.5941 -122.299                  0   \n",
       "\n",
       "            has_basement_True  season_spring  season_summer  season_winter  \n",
       "id                                                                          \n",
       "7129300520                  0              0              0              0  \n",
       "6414100192                  1              0              0              0  \n",
       "5631500400                  0              0              0              1  \n",
       "2487200875                  1              0              0              0  \n",
       "1954400510                  0              0              0              1  \n",
       "...                       ...            ...            ...            ...  \n",
       "263000018                   0              1              0              0  \n",
       "6600060120                  0              0              0              1  \n",
       "1523300141                  0              1              0              0  \n",
       "291310100                   0              0              0              1  \n",
       "1523300157                  0              0              0              0  \n",
       "\n",
       "[20132 rows x 16 columns]"
      ]
     },
     "execution_count": 44,
     "metadata": {},
     "output_type": "execute_result"
    }
   ],
   "source": [
    "dummy = pd.get_dummies(data, columns=['is_renovated', 'has_basement', 'season'], drop_first=True)\n",
    "dummy.drop(labels=['date'], axis=1, inplace=True)\n",
    "dummy"
   ]
  },
  {
   "cell_type": "code",
   "execution_count": 61,
   "metadata": {},
   "outputs": [
    {
     "data": {
      "text/html": [
       "<div>\n",
       "<style scoped>\n",
       "    .dataframe tbody tr th:only-of-type {\n",
       "        vertical-align: middle;\n",
       "    }\n",
       "\n",
       "    .dataframe tbody tr th {\n",
       "        vertical-align: top;\n",
       "    }\n",
       "\n",
       "    .dataframe thead th {\n",
       "        text-align: right;\n",
       "    }\n",
       "</style>\n",
       "<table border=\"1\" class=\"dataframe\">\n",
       "  <thead>\n",
       "    <tr style=\"text-align: right;\">\n",
       "      <th></th>\n",
       "      <th>price</th>\n",
       "      <th>bedrooms</th>\n",
       "      <th>bathrooms</th>\n",
       "      <th>sqft_living</th>\n",
       "      <th>sqft_lot</th>\n",
       "      <th>floors</th>\n",
       "      <th>condition</th>\n",
       "      <th>grade</th>\n",
       "      <th>yr_built</th>\n",
       "      <th>lat</th>\n",
       "      <th>long</th>\n",
       "      <th>is_renovated_True</th>\n",
       "      <th>has_basement_True</th>\n",
       "      <th>season_spring</th>\n",
       "      <th>season_summer</th>\n",
       "      <th>season_winter</th>\n",
       "    </tr>\n",
       "    <tr>\n",
       "      <th>id</th>\n",
       "      <th></th>\n",
       "      <th></th>\n",
       "      <th></th>\n",
       "      <th></th>\n",
       "      <th></th>\n",
       "      <th></th>\n",
       "      <th></th>\n",
       "      <th></th>\n",
       "      <th></th>\n",
       "      <th></th>\n",
       "      <th></th>\n",
       "      <th></th>\n",
       "      <th></th>\n",
       "      <th></th>\n",
       "      <th></th>\n",
       "      <th></th>\n",
       "    </tr>\n",
       "  </thead>\n",
       "  <tbody>\n",
       "    <tr>\n",
       "      <th>7129300520</th>\n",
       "      <td>221900.0</td>\n",
       "      <td>3</td>\n",
       "      <td>1.0</td>\n",
       "      <td>1180</td>\n",
       "      <td>5650</td>\n",
       "      <td>1.0</td>\n",
       "      <td>3</td>\n",
       "      <td>7</td>\n",
       "      <td>1955</td>\n",
       "      <td>47.5112</td>\n",
       "      <td>-122.257</td>\n",
       "      <td>0</td>\n",
       "      <td>0</td>\n",
       "      <td>0</td>\n",
       "      <td>0</td>\n",
       "      <td>0</td>\n",
       "    </tr>\n",
       "    <tr>\n",
       "      <th>6414100192</th>\n",
       "      <td>538000.0</td>\n",
       "      <td>3</td>\n",
       "      <td>2.0</td>\n",
       "      <td>2570</td>\n",
       "      <td>7242</td>\n",
       "      <td>2.0</td>\n",
       "      <td>3</td>\n",
       "      <td>7</td>\n",
       "      <td>1951</td>\n",
       "      <td>47.7210</td>\n",
       "      <td>-122.319</td>\n",
       "      <td>1</td>\n",
       "      <td>1</td>\n",
       "      <td>0</td>\n",
       "      <td>0</td>\n",
       "      <td>0</td>\n",
       "    </tr>\n",
       "    <tr>\n",
       "      <th>5631500400</th>\n",
       "      <td>180000.0</td>\n",
       "      <td>2</td>\n",
       "      <td>1.0</td>\n",
       "      <td>770</td>\n",
       "      <td>10000</td>\n",
       "      <td>1.0</td>\n",
       "      <td>3</td>\n",
       "      <td>6</td>\n",
       "      <td>1933</td>\n",
       "      <td>47.7379</td>\n",
       "      <td>-122.233</td>\n",
       "      <td>0</td>\n",
       "      <td>0</td>\n",
       "      <td>0</td>\n",
       "      <td>0</td>\n",
       "      <td>1</td>\n",
       "    </tr>\n",
       "    <tr>\n",
       "      <th>2487200875</th>\n",
       "      <td>604000.0</td>\n",
       "      <td>4</td>\n",
       "      <td>3.0</td>\n",
       "      <td>1960</td>\n",
       "      <td>5000</td>\n",
       "      <td>1.0</td>\n",
       "      <td>5</td>\n",
       "      <td>7</td>\n",
       "      <td>1965</td>\n",
       "      <td>47.5208</td>\n",
       "      <td>-122.393</td>\n",
       "      <td>0</td>\n",
       "      <td>1</td>\n",
       "      <td>0</td>\n",
       "      <td>0</td>\n",
       "      <td>0</td>\n",
       "    </tr>\n",
       "    <tr>\n",
       "      <th>1954400510</th>\n",
       "      <td>510000.0</td>\n",
       "      <td>3</td>\n",
       "      <td>2.0</td>\n",
       "      <td>1680</td>\n",
       "      <td>8080</td>\n",
       "      <td>1.0</td>\n",
       "      <td>3</td>\n",
       "      <td>8</td>\n",
       "      <td>1987</td>\n",
       "      <td>47.6168</td>\n",
       "      <td>-122.045</td>\n",
       "      <td>0</td>\n",
       "      <td>0</td>\n",
       "      <td>0</td>\n",
       "      <td>0</td>\n",
       "      <td>1</td>\n",
       "    </tr>\n",
       "    <tr>\n",
       "      <th>...</th>\n",
       "      <td>...</td>\n",
       "      <td>...</td>\n",
       "      <td>...</td>\n",
       "      <td>...</td>\n",
       "      <td>...</td>\n",
       "      <td>...</td>\n",
       "      <td>...</td>\n",
       "      <td>...</td>\n",
       "      <td>...</td>\n",
       "      <td>...</td>\n",
       "      <td>...</td>\n",
       "      <td>...</td>\n",
       "      <td>...</td>\n",
       "      <td>...</td>\n",
       "      <td>...</td>\n",
       "      <td>...</td>\n",
       "    </tr>\n",
       "    <tr>\n",
       "      <th>263000018</th>\n",
       "      <td>360000.0</td>\n",
       "      <td>3</td>\n",
       "      <td>2.5</td>\n",
       "      <td>1530</td>\n",
       "      <td>1131</td>\n",
       "      <td>3.0</td>\n",
       "      <td>3</td>\n",
       "      <td>8</td>\n",
       "      <td>2009</td>\n",
       "      <td>47.6993</td>\n",
       "      <td>-122.346</td>\n",
       "      <td>0</td>\n",
       "      <td>0</td>\n",
       "      <td>1</td>\n",
       "      <td>0</td>\n",
       "      <td>0</td>\n",
       "    </tr>\n",
       "    <tr>\n",
       "      <th>6600060120</th>\n",
       "      <td>400000.0</td>\n",
       "      <td>4</td>\n",
       "      <td>2.5</td>\n",
       "      <td>2310</td>\n",
       "      <td>5813</td>\n",
       "      <td>2.0</td>\n",
       "      <td>3</td>\n",
       "      <td>8</td>\n",
       "      <td>2014</td>\n",
       "      <td>47.5107</td>\n",
       "      <td>-122.362</td>\n",
       "      <td>0</td>\n",
       "      <td>0</td>\n",
       "      <td>0</td>\n",
       "      <td>0</td>\n",
       "      <td>1</td>\n",
       "    </tr>\n",
       "    <tr>\n",
       "      <th>1523300141</th>\n",
       "      <td>402101.0</td>\n",
       "      <td>2</td>\n",
       "      <td>1.0</td>\n",
       "      <td>1020</td>\n",
       "      <td>1350</td>\n",
       "      <td>2.0</td>\n",
       "      <td>3</td>\n",
       "      <td>7</td>\n",
       "      <td>2009</td>\n",
       "      <td>47.5944</td>\n",
       "      <td>-122.299</td>\n",
       "      <td>0</td>\n",
       "      <td>0</td>\n",
       "      <td>1</td>\n",
       "      <td>0</td>\n",
       "      <td>0</td>\n",
       "    </tr>\n",
       "    <tr>\n",
       "      <th>291310100</th>\n",
       "      <td>400000.0</td>\n",
       "      <td>3</td>\n",
       "      <td>2.5</td>\n",
       "      <td>1600</td>\n",
       "      <td>2388</td>\n",
       "      <td>2.0</td>\n",
       "      <td>3</td>\n",
       "      <td>8</td>\n",
       "      <td>2004</td>\n",
       "      <td>47.5345</td>\n",
       "      <td>-122.069</td>\n",
       "      <td>0</td>\n",
       "      <td>0</td>\n",
       "      <td>0</td>\n",
       "      <td>0</td>\n",
       "      <td>1</td>\n",
       "    </tr>\n",
       "    <tr>\n",
       "      <th>1523300157</th>\n",
       "      <td>325000.0</td>\n",
       "      <td>2</td>\n",
       "      <td>1.0</td>\n",
       "      <td>1020</td>\n",
       "      <td>1076</td>\n",
       "      <td>2.0</td>\n",
       "      <td>3</td>\n",
       "      <td>7</td>\n",
       "      <td>2008</td>\n",
       "      <td>47.5941</td>\n",
       "      <td>-122.299</td>\n",
       "      <td>0</td>\n",
       "      <td>0</td>\n",
       "      <td>0</td>\n",
       "      <td>0</td>\n",
       "      <td>0</td>\n",
       "    </tr>\n",
       "  </tbody>\n",
       "</table>\n",
       "<p>20132 rows × 16 columns</p>\n",
       "</div>"
      ],
      "text/plain": [
       "               price  bedrooms  bathrooms  sqft_living  sqft_lot  floors  \\\n",
       "id                                                                         \n",
       "7129300520  221900.0         3        1.0         1180      5650     1.0   \n",
       "6414100192  538000.0         3        2.0         2570      7242     2.0   \n",
       "5631500400  180000.0         2        1.0          770     10000     1.0   \n",
       "2487200875  604000.0         4        3.0         1960      5000     1.0   \n",
       "1954400510  510000.0         3        2.0         1680      8080     1.0   \n",
       "...              ...       ...        ...          ...       ...     ...   \n",
       "263000018   360000.0         3        2.5         1530      1131     3.0   \n",
       "6600060120  400000.0         4        2.5         2310      5813     2.0   \n",
       "1523300141  402101.0         2        1.0         1020      1350     2.0   \n",
       "291310100   400000.0         3        2.5         1600      2388     2.0   \n",
       "1523300157  325000.0         2        1.0         1020      1076     2.0   \n",
       "\n",
       "            condition  grade  yr_built      lat     long  is_renovated_True  \\\n",
       "id                                                                            \n",
       "7129300520          3      7      1955  47.5112 -122.257                  0   \n",
       "6414100192          3      7      1951  47.7210 -122.319                  1   \n",
       "5631500400          3      6      1933  47.7379 -122.233                  0   \n",
       "2487200875          5      7      1965  47.5208 -122.393                  0   \n",
       "1954400510          3      8      1987  47.6168 -122.045                  0   \n",
       "...               ...    ...       ...      ...      ...                ...   \n",
       "263000018           3      8      2009  47.6993 -122.346                  0   \n",
       "6600060120          3      8      2014  47.5107 -122.362                  0   \n",
       "1523300141          3      7      2009  47.5944 -122.299                  0   \n",
       "291310100           3      8      2004  47.5345 -122.069                  0   \n",
       "1523300157          3      7      2008  47.5941 -122.299                  0   \n",
       "\n",
       "            has_basement_True  season_spring  season_summer  season_winter  \n",
       "id                                                                          \n",
       "7129300520                  0              0              0              0  \n",
       "6414100192                  1              0              0              0  \n",
       "5631500400                  0              0              0              1  \n",
       "2487200875                  1              0              0              0  \n",
       "1954400510                  0              0              0              1  \n",
       "...                       ...            ...            ...            ...  \n",
       "263000018                   0              1              0              0  \n",
       "6600060120                  0              0              0              1  \n",
       "1523300141                  0              1              0              0  \n",
       "291310100                   0              0              0              1  \n",
       "1523300157                  0              0              0              0  \n",
       "\n",
       "[20132 rows x 16 columns]"
      ]
     },
     "execution_count": 61,
     "metadata": {},
     "output_type": "execute_result"
    }
   ],
   "source": [
    "dummy_log = pd.DataFrame.copy(dummy)\n",
    "dummy_log"
   ]
  },
  {
   "cell_type": "code",
   "execution_count": 62,
   "metadata": {},
   "outputs": [
    {
     "data": {
      "text/plain": [
       "id\n",
       "7129300520    7.578145\n",
       "6414100192    7.576097\n",
       "5631500400    7.566828\n",
       "2487200875    7.583248\n",
       "1954400510    7.594381\n",
       "                ...   \n",
       "263000018     7.605392\n",
       "6600060120    7.607878\n",
       "1523300141    7.605392\n",
       "291310100     7.602900\n",
       "1523300157    7.604894\n",
       "Name: yr_built, Length: 20132, dtype: float64"
      ]
     },
     "execution_count": 62,
     "metadata": {},
     "output_type": "execute_result"
    }
   ],
   "source": [
    "log_col = ['price', 'bedrooms', 'bathrooms', 'sqft_living', 'sqft_lot', 'floors', 'condition', 'grade', 'yr_built']\n",
    "for col in dummy_log.columns:\n",
    "    if col in log_col:\n",
    "        new_log = np.log(dummy_log[col])\n",
    "        dummy_log[col] = new_log\n",
    "\n",
    "new_log"
   ]
  },
  {
   "cell_type": "code",
   "execution_count": 65,
   "metadata": {},
   "outputs": [
    {
     "data": {
      "text/html": [
       "<div>\n",
       "<style scoped>\n",
       "    .dataframe tbody tr th:only-of-type {\n",
       "        vertical-align: middle;\n",
       "    }\n",
       "\n",
       "    .dataframe tbody tr th {\n",
       "        vertical-align: top;\n",
       "    }\n",
       "\n",
       "    .dataframe thead th {\n",
       "        text-align: right;\n",
       "    }\n",
       "</style>\n",
       "<table border=\"1\" class=\"dataframe\">\n",
       "  <thead>\n",
       "    <tr style=\"text-align: right;\">\n",
       "      <th></th>\n",
       "      <th>price</th>\n",
       "      <th>bedrooms</th>\n",
       "      <th>bathrooms</th>\n",
       "      <th>sqft_living</th>\n",
       "      <th>sqft_lot</th>\n",
       "      <th>floors</th>\n",
       "      <th>condition</th>\n",
       "      <th>grade</th>\n",
       "      <th>yr_built</th>\n",
       "      <th>lat</th>\n",
       "      <th>long</th>\n",
       "      <th>is_renovated_True</th>\n",
       "      <th>has_basement_True</th>\n",
       "      <th>season_spring</th>\n",
       "      <th>season_summer</th>\n",
       "      <th>season_winter</th>\n",
       "    </tr>\n",
       "    <tr>\n",
       "      <th>id</th>\n",
       "      <th></th>\n",
       "      <th></th>\n",
       "      <th></th>\n",
       "      <th></th>\n",
       "      <th></th>\n",
       "      <th></th>\n",
       "      <th></th>\n",
       "      <th></th>\n",
       "      <th></th>\n",
       "      <th></th>\n",
       "      <th></th>\n",
       "      <th></th>\n",
       "      <th></th>\n",
       "      <th></th>\n",
       "      <th></th>\n",
       "      <th></th>\n",
       "    </tr>\n",
       "  </thead>\n",
       "  <tbody>\n",
       "    <tr>\n",
       "      <th>7129300520</th>\n",
       "      <td>12.309982</td>\n",
       "      <td>1.098612</td>\n",
       "      <td>0.000000</td>\n",
       "      <td>7.073270</td>\n",
       "      <td>8.639411</td>\n",
       "      <td>0.000000</td>\n",
       "      <td>1.098612</td>\n",
       "      <td>1.945910</td>\n",
       "      <td>7.578145</td>\n",
       "      <td>47.5112</td>\n",
       "      <td>-122.257</td>\n",
       "      <td>0</td>\n",
       "      <td>0</td>\n",
       "      <td>0</td>\n",
       "      <td>0</td>\n",
       "      <td>0</td>\n",
       "    </tr>\n",
       "    <tr>\n",
       "      <th>6414100192</th>\n",
       "      <td>13.195614</td>\n",
       "      <td>1.098612</td>\n",
       "      <td>0.693147</td>\n",
       "      <td>7.851661</td>\n",
       "      <td>8.887653</td>\n",
       "      <td>0.693147</td>\n",
       "      <td>1.098612</td>\n",
       "      <td>1.945910</td>\n",
       "      <td>7.576097</td>\n",
       "      <td>47.7210</td>\n",
       "      <td>-122.319</td>\n",
       "      <td>1</td>\n",
       "      <td>1</td>\n",
       "      <td>0</td>\n",
       "      <td>0</td>\n",
       "      <td>0</td>\n",
       "    </tr>\n",
       "    <tr>\n",
       "      <th>5631500400</th>\n",
       "      <td>12.100712</td>\n",
       "      <td>0.693147</td>\n",
       "      <td>0.000000</td>\n",
       "      <td>6.646391</td>\n",
       "      <td>9.210340</td>\n",
       "      <td>0.000000</td>\n",
       "      <td>1.098612</td>\n",
       "      <td>1.791759</td>\n",
       "      <td>7.566828</td>\n",
       "      <td>47.7379</td>\n",
       "      <td>-122.233</td>\n",
       "      <td>0</td>\n",
       "      <td>0</td>\n",
       "      <td>0</td>\n",
       "      <td>0</td>\n",
       "      <td>1</td>\n",
       "    </tr>\n",
       "    <tr>\n",
       "      <th>2487200875</th>\n",
       "      <td>13.311329</td>\n",
       "      <td>1.386294</td>\n",
       "      <td>1.098612</td>\n",
       "      <td>7.580700</td>\n",
       "      <td>8.517193</td>\n",
       "      <td>0.000000</td>\n",
       "      <td>1.609438</td>\n",
       "      <td>1.945910</td>\n",
       "      <td>7.583248</td>\n",
       "      <td>47.5208</td>\n",
       "      <td>-122.393</td>\n",
       "      <td>0</td>\n",
       "      <td>1</td>\n",
       "      <td>0</td>\n",
       "      <td>0</td>\n",
       "      <td>0</td>\n",
       "    </tr>\n",
       "    <tr>\n",
       "      <th>1954400510</th>\n",
       "      <td>13.142166</td>\n",
       "      <td>1.098612</td>\n",
       "      <td>0.693147</td>\n",
       "      <td>7.426549</td>\n",
       "      <td>8.997147</td>\n",
       "      <td>0.000000</td>\n",
       "      <td>1.098612</td>\n",
       "      <td>2.079442</td>\n",
       "      <td>7.594381</td>\n",
       "      <td>47.6168</td>\n",
       "      <td>-122.045</td>\n",
       "      <td>0</td>\n",
       "      <td>0</td>\n",
       "      <td>0</td>\n",
       "      <td>0</td>\n",
       "      <td>1</td>\n",
       "    </tr>\n",
       "  </tbody>\n",
       "</table>\n",
       "</div>"
      ],
      "text/plain": [
       "                price  bedrooms  bathrooms  sqft_living  sqft_lot    floors  \\\n",
       "id                                                                            \n",
       "7129300520  12.309982  1.098612   0.000000     7.073270  8.639411  0.000000   \n",
       "6414100192  13.195614  1.098612   0.693147     7.851661  8.887653  0.693147   \n",
       "5631500400  12.100712  0.693147   0.000000     6.646391  9.210340  0.000000   \n",
       "2487200875  13.311329  1.386294   1.098612     7.580700  8.517193  0.000000   \n",
       "1954400510  13.142166  1.098612   0.693147     7.426549  8.997147  0.000000   \n",
       "\n",
       "            condition     grade  yr_built      lat     long  \\\n",
       "id                                                            \n",
       "7129300520   1.098612  1.945910  7.578145  47.5112 -122.257   \n",
       "6414100192   1.098612  1.945910  7.576097  47.7210 -122.319   \n",
       "5631500400   1.098612  1.791759  7.566828  47.7379 -122.233   \n",
       "2487200875   1.609438  1.945910  7.583248  47.5208 -122.393   \n",
       "1954400510   1.098612  2.079442  7.594381  47.6168 -122.045   \n",
       "\n",
       "            is_renovated_True  has_basement_True  season_spring  \\\n",
       "id                                                                \n",
       "7129300520                  0                  0              0   \n",
       "6414100192                  1                  1              0   \n",
       "5631500400                  0                  0              0   \n",
       "2487200875                  0                  1              0   \n",
       "1954400510                  0                  0              0   \n",
       "\n",
       "            season_summer  season_winter  \n",
       "id                                        \n",
       "7129300520              0              0  \n",
       "6414100192              0              0  \n",
       "5631500400              0              1  \n",
       "2487200875              0              0  \n",
       "1954400510              0              1  "
      ]
     },
     "execution_count": 65,
     "metadata": {},
     "output_type": "execute_result"
    }
   ],
   "source": [
    "dummy_log.head()"
   ]
  },
  {
   "cell_type": "code",
   "execution_count": 66,
   "metadata": {},
   "outputs": [
    {
     "data": {
      "text/plain": [
       "array([[<AxesSubplot:title={'center':'price'}>,\n",
       "        <AxesSubplot:title={'center':'bedrooms'}>,\n",
       "        <AxesSubplot:title={'center':'bathrooms'}>,\n",
       "        <AxesSubplot:title={'center':'sqft_living'}>],\n",
       "       [<AxesSubplot:title={'center':'sqft_lot'}>,\n",
       "        <AxesSubplot:title={'center':'floors'}>,\n",
       "        <AxesSubplot:title={'center':'condition'}>,\n",
       "        <AxesSubplot:title={'center':'grade'}>],\n",
       "       [<AxesSubplot:title={'center':'yr_built'}>,\n",
       "        <AxesSubplot:title={'center':'lat'}>,\n",
       "        <AxesSubplot:title={'center':'long'}>,\n",
       "        <AxesSubplot:title={'center':'is_renovated_True'}>],\n",
       "       [<AxesSubplot:title={'center':'has_basement_True'}>,\n",
       "        <AxesSubplot:title={'center':'season_spring'}>,\n",
       "        <AxesSubplot:title={'center':'season_summer'}>,\n",
       "        <AxesSubplot:title={'center':'season_winter'}>]], dtype=object)"
      ]
     },
     "execution_count": 66,
     "metadata": {},
     "output_type": "execute_result"
    },
    {
     "data": {
      "image/png": "[encoded data removed]",
      "text/plain": [
       "<Figure size 720x720 with 16 Axes>"
      ]
     },
     "metadata": {
      "needs_background": "light"
     },
     "output_type": "display_data"
    }
   ],
   "source": [
    "dummy_log.hist(figsize=[10,10])"
   ]
  },
  {
   "cell_type": "code",
   "execution_count": 67,
   "metadata": {},
   "outputs": [
    {
     "data": {
      "text/html": [
       "<div>\n",
       "<style scoped>\n",
       "    .dataframe tbody tr th:only-of-type {\n",
       "        vertical-align: middle;\n",
       "    }\n",
       "\n",
       "    .dataframe tbody tr th {\n",
       "        vertical-align: top;\n",
       "    }\n",
       "\n",
       "    .dataframe thead th {\n",
       "        text-align: right;\n",
       "    }\n",
       "</style>\n",
       "<table border=\"1\" class=\"dataframe\">\n",
       "  <thead>\n",
       "    <tr style=\"text-align: right;\">\n",
       "      <th></th>\n",
       "      <th>price</th>\n",
       "      <th>bedrooms</th>\n",
       "      <th>bathrooms</th>\n",
       "      <th>sqft_living</th>\n",
       "      <th>sqft_lot</th>\n",
       "      <th>floors</th>\n",
       "      <th>condition</th>\n",
       "      <th>grade</th>\n",
       "      <th>yr_built</th>\n",
       "      <th>lat</th>\n",
       "      <th>long</th>\n",
       "      <th>is_renovated_True</th>\n",
       "      <th>has_basement_True</th>\n",
       "      <th>season_spring</th>\n",
       "      <th>season_summer</th>\n",
       "      <th>season_winter</th>\n",
       "    </tr>\n",
       "  </thead>\n",
       "  <tbody>\n",
       "    <tr>\n",
       "      <th>count</th>\n",
       "      <td>2.013200e+04</td>\n",
       "      <td>2.013200e+04</td>\n",
       "      <td>2.013200e+04</td>\n",
       "      <td>2.013200e+04</td>\n",
       "      <td>2.013200e+04</td>\n",
       "      <td>2.013200e+04</td>\n",
       "      <td>2.013200e+04</td>\n",
       "      <td>2.013200e+04</td>\n",
       "      <td>2.013200e+04</td>\n",
       "      <td>2.013200e+04</td>\n",
       "      <td>2.013200e+04</td>\n",
       "      <td>2.013200e+04</td>\n",
       "      <td>2.013200e+04</td>\n",
       "      <td>2.013200e+04</td>\n",
       "      <td>2.013200e+04</td>\n",
       "      <td>2.013200e+04</td>\n",
       "    </tr>\n",
       "    <tr>\n",
       "      <th>mean</th>\n",
       "      <td>-6.889427e-16</td>\n",
       "      <td>2.371770e-16</td>\n",
       "      <td>-1.185885e-16</td>\n",
       "      <td>4.630598e-16</td>\n",
       "      <td>-1.095532e-15</td>\n",
       "      <td>1.355297e-16</td>\n",
       "      <td>2.767065e-16</td>\n",
       "      <td>5.545424e-15</td>\n",
       "      <td>-1.538262e-14</td>\n",
       "      <td>9.803933e-15</td>\n",
       "      <td>-4.399986e-14</td>\n",
       "      <td>4.941187e-17</td>\n",
       "      <td>-1.835298e-17</td>\n",
       "      <td>2.400005e-17</td>\n",
       "      <td>8.823549e-18</td>\n",
       "      <td>5.929425e-17</td>\n",
       "    </tr>\n",
       "    <tr>\n",
       "      <th>std</th>\n",
       "      <td>1.000025e+00</td>\n",
       "      <td>1.000025e+00</td>\n",
       "      <td>1.000025e+00</td>\n",
       "      <td>1.000025e+00</td>\n",
       "      <td>1.000025e+00</td>\n",
       "      <td>1.000025e+00</td>\n",
       "      <td>1.000025e+00</td>\n",
       "      <td>1.000025e+00</td>\n",
       "      <td>1.000025e+00</td>\n",
       "      <td>1.000025e+00</td>\n",
       "      <td>1.000025e+00</td>\n",
       "      <td>1.000025e+00</td>\n",
       "      <td>1.000025e+00</td>\n",
       "      <td>1.000025e+00</td>\n",
       "      <td>1.000025e+00</td>\n",
       "      <td>1.000025e+00</td>\n",
       "    </tr>\n",
       "    <tr>\n",
       "      <th>min</th>\n",
       "      <td>-3.505317e+00</td>\n",
       "      <td>-4.170114e+00</td>\n",
       "      <td>-3.590878e+00</td>\n",
       "      <td>-4.004731e+00</td>\n",
       "      <td>-3.530080e+00</td>\n",
       "      <td>-9.431385e-01</td>\n",
       "      <td>-6.671636e+00</td>\n",
       "      <td>-6.513973e+00</td>\n",
       "      <td>-2.421481e+00</td>\n",
       "      <td>-2.938884e+00</td>\n",
       "      <td>-2.143952e+00</td>\n",
       "      <td>-1.879639e-01</td>\n",
       "      <td>-8.037298e-01</td>\n",
       "      <td>-6.775338e-01</td>\n",
       "      <td>-6.149382e-01</td>\n",
       "      <td>-4.861908e-01</td>\n",
       "    </tr>\n",
       "    <tr>\n",
       "      <th>25%</th>\n",
       "      <td>-6.993279e-01</td>\n",
       "      <td>-2.620271e-01</td>\n",
       "      <td>-7.050623e-01</td>\n",
       "      <td>-6.797847e-01</td>\n",
       "      <td>-4.980763e-01</td>\n",
       "      <td>-9.431385e-01</td>\n",
       "      <td>-6.207068e-01</td>\n",
       "      <td>-4.988675e-01</td>\n",
       "      <td>-6.525136e-01</td>\n",
       "      <td>-6.340641e-01</td>\n",
       "      <td>-8.121941e-01</td>\n",
       "      <td>-1.879639e-01</td>\n",
       "      <td>-8.037298e-01</td>\n",
       "      <td>-6.775338e-01</td>\n",
       "      <td>-6.149382e-01</td>\n",
       "      <td>-4.861908e-01</td>\n",
       "    </tr>\n",
       "    <tr>\n",
       "      <th>50%</th>\n",
       "      <td>-2.975161e-02</td>\n",
       "      <td>-2.620271e-01</td>\n",
       "      <td>5.061601e-02</td>\n",
       "      <td>3.519311e-02</td>\n",
       "      <td>3.819055e-02</td>\n",
       "      <td>-9.431385e-01</td>\n",
       "      <td>-6.207068e-01</td>\n",
       "      <td>-4.988675e-01</td>\n",
       "      <td>9.633844e-02</td>\n",
       "      <td>8.763978e-02</td>\n",
       "      <td>-1.573517e-01</td>\n",
       "      <td>-1.879639e-01</td>\n",
       "      <td>-8.037298e-01</td>\n",
       "      <td>-6.775338e-01</td>\n",
       "      <td>-6.149382e-01</td>\n",
       "      <td>-4.861908e-01</td>\n",
       "    </tr>\n",
       "    <tr>\n",
       "      <th>75%</th>\n",
       "      <td>6.498149e-01</td>\n",
       "      <td>7.613427e-01</td>\n",
       "      <td>6.367657e-01</td>\n",
       "      <td>7.235899e-01</td>\n",
       "      <td>4.393094e-01</td>\n",
       "      <td>1.025359e+00</td>\n",
       "      <td>9.637866e-01</td>\n",
       "      <td>4.490937e-01</td>\n",
       "      <td>8.703534e-01</td>\n",
       "      <td>8.513285e-01</td>\n",
       "      <td>6.152152e-01</td>\n",
       "      <td>-1.879639e-01</td>\n",
       "      <td>1.244199e+00</td>\n",
       "      <td>1.475941e+00</td>\n",
       "      <td>1.626180e+00</td>\n",
       "      <td>-4.861908e-01</td>\n",
       "    </tr>\n",
       "    <tr>\n",
       "      <th>max</th>\n",
       "      <td>4.167902e+00</td>\n",
       "      <td>8.267992e+00</td>\n",
       "      <td>3.522582e+00</td>\n",
       "      <td>2.380265e+00</td>\n",
       "      <td>3.873459e+00</td>\n",
       "      <td>2.614635e+00</td>\n",
       "      <td>2.192815e+00</td>\n",
       "      <td>3.327557e+00</td>\n",
       "      <td>1.503059e+00</td>\n",
       "      <td>1.561450e+00</td>\n",
       "      <td>6.663311e+00</td>\n",
       "      <td>5.320171e+00</td>\n",
       "      <td>1.244199e+00</td>\n",
       "      <td>1.475941e+00</td>\n",
       "      <td>1.626180e+00</td>\n",
       "      <td>2.056806e+00</td>\n",
       "    </tr>\n",
       "  </tbody>\n",
       "</table>\n",
       "</div>"
      ],
      "text/plain": [
       "              price      bedrooms     bathrooms   sqft_living      sqft_lot  \\\n",
       "count  2.013200e+04  2.013200e+04  2.013200e+04  2.013200e+04  2.013200e+04   \n",
       "mean  -6.889427e-16  2.371770e-16 -1.185885e-16  4.630598e-16 -1.095532e-15   \n",
       "std    1.000025e+00  1.000025e+00  1.000025e+00  1.000025e+00  1.000025e+00   \n",
       "min   -3.505317e+00 -4.170114e+00 -3.590878e+00 -4.004731e+00 -3.530080e+00   \n",
       "25%   -6.993279e-01 -2.620271e-01 -7.050623e-01 -6.797847e-01 -4.980763e-01   \n",
       "50%   -2.975161e-02 -2.620271e-01  5.061601e-02  3.519311e-02  3.819055e-02   \n",
       "75%    6.498149e-01  7.613427e-01  6.367657e-01  7.235899e-01  4.393094e-01   \n",
       "max    4.167902e+00  8.267992e+00  3.522582e+00  2.380265e+00  3.873459e+00   \n",
       "\n",
       "             floors     condition         grade      yr_built           lat  \\\n",
       "count  2.013200e+04  2.013200e+04  2.013200e+04  2.013200e+04  2.013200e+04   \n",
       "mean   1.355297e-16  2.767065e-16  5.545424e-15 -1.538262e-14  9.803933e-15   \n",
       "std    1.000025e+00  1.000025e+00  1.000025e+00  1.000025e+00  1.000025e+00   \n",
       "min   -9.431385e-01 -6.671636e+00 -6.513973e+00 -2.421481e+00 -2.938884e+00   \n",
       "25%   -9.431385e-01 -6.207068e-01 -4.988675e-01 -6.525136e-01 -6.340641e-01   \n",
       "50%   -9.431385e-01 -6.207068e-01 -4.988675e-01  9.633844e-02  8.763978e-02   \n",
       "75%    1.025359e+00  9.637866e-01  4.490937e-01  8.703534e-01  8.513285e-01   \n",
       "max    2.614635e+00  2.192815e+00  3.327557e+00  1.503059e+00  1.561450e+00   \n",
       "\n",
       "               long  is_renovated_True  has_basement_True  season_spring  \\\n",
       "count  2.013200e+04       2.013200e+04       2.013200e+04   2.013200e+04   \n",
       "mean  -4.399986e-14       4.941187e-17      -1.835298e-17   2.400005e-17   \n",
       "std    1.000025e+00       1.000025e+00       1.000025e+00   1.000025e+00   \n",
       "min   -2.143952e+00      -1.879639e-01      -8.037298e-01  -6.775338e-01   \n",
       "25%   -8.121941e-01      -1.879639e-01      -8.037298e-01  -6.775338e-01   \n",
       "50%   -1.573517e-01      -1.879639e-01      -8.037298e-01  -6.775338e-01   \n",
       "75%    6.152152e-01      -1.879639e-01       1.244199e+00   1.475941e+00   \n",
       "max    6.663311e+00       5.320171e+00       1.244199e+00   1.475941e+00   \n",
       "\n",
       "       season_summer  season_winter  \n",
       "count   2.013200e+04   2.013200e+04  \n",
       "mean    8.823549e-18   5.929425e-17  \n",
       "std     1.000025e+00   1.000025e+00  \n",
       "min    -6.149382e-01  -4.861908e-01  \n",
       "25%    -6.149382e-01  -4.861908e-01  \n",
       "50%    -6.149382e-01  -4.861908e-01  \n",
       "75%     1.626180e+00  -4.861908e-01  \n",
       "max     1.626180e+00   2.056806e+00  "
      ]
     },
     "execution_count": 67,
     "metadata": {},
     "output_type": "execute_result"
    }
   ],
   "source": [
    "dummy_log_scaled = (dummy_log - np.mean(dummy_log))/ np.std(dummy_log)\n",
    "dummy_log_scaled.describe()"
   ]
  },
  {
   "cell_type": "code",
   "execution_count": 68,
   "metadata": {},
   "outputs": [],
   "source": [
    "y_log = dummy_log_scaled['price']\n",
    "X_log = dummy_log_scaled.drop(['price'], axis=1)"
   ]
  },
  {
   "cell_type": "code",
   "execution_count": 69,
   "metadata": {},
   "outputs": [],
   "source": [
    "from sklearn.model_selection import train_test_split\n",
    "X_train, X_test, y_train, y_test = train_test_split(X_log, y_log, test_size=0.2, random_state=42)"
   ]
  },
  {
   "cell_type": "code",
   "execution_count": 70,
   "metadata": {},
   "outputs": [
    {
     "data": {
      "text/html": [
       "<table class=\"simpletable\">\n",
       "<caption>OLS Regression Results</caption>\n",
       "<tr>\n",
       "  <th>Dep. Variable:</th>          <td>price</td>      <th>  R-squared:         </th> <td>   0.723</td> \n",
       "</tr>\n",
       "<tr>\n",
       "  <th>Model:</th>                   <td>OLS</td>       <th>  Adj. R-squared:    </th> <td>   0.723</td> \n",
       "</tr>\n",
       "<tr>\n",
       "  <th>Method:</th>             <td>Least Squares</td>  <th>  F-statistic:       </th> <td>   2798.</td> \n",
       "</tr>\n",
       "<tr>\n",
       "  <th>Date:</th>             <td>Tue, 24 Aug 2021</td> <th>  Prob (F-statistic):</th>  <td>  0.00</td>  \n",
       "</tr>\n",
       "<tr>\n",
       "  <th>Time:</th>                 <td>11:20:48</td>     <th>  Log-Likelihood:    </th> <td> -12508.</td> \n",
       "</tr>\n",
       "<tr>\n",
       "  <th>No. Observations:</th>      <td> 16105</td>      <th>  AIC:               </th> <td>2.505e+04</td>\n",
       "</tr>\n",
       "<tr>\n",
       "  <th>Df Residuals:</th>          <td> 16089</td>      <th>  BIC:               </th> <td>2.517e+04</td>\n",
       "</tr>\n",
       "<tr>\n",
       "  <th>Df Model:</th>              <td>    15</td>      <th>                     </th>     <td> </td>    \n",
       "</tr>\n",
       "<tr>\n",
       "  <th>Covariance Type:</th>      <td>nonrobust</td>    <th>                     </th>     <td> </td>    \n",
       "</tr>\n",
       "</table>\n",
       "<table class=\"simpletable\">\n",
       "<tr>\n",
       "          <td></td>             <th>coef</th>     <th>std err</th>      <th>t</th>      <th>P>|t|</th>  <th>[0.025</th>    <th>0.975]</th>  \n",
       "</tr>\n",
       "<tr>\n",
       "  <th>const</th>             <td>   -0.0005</td> <td>    0.004</td> <td>   -0.116</td> <td> 0.908</td> <td>   -0.009</td> <td>    0.008</td>\n",
       "</tr>\n",
       "<tr>\n",
       "  <th>bedrooms</th>          <td>   -0.0744</td> <td>    0.006</td> <td>  -13.284</td> <td> 0.000</td> <td>   -0.085</td> <td>   -0.063</td>\n",
       "</tr>\n",
       "<tr>\n",
       "  <th>bathrooms</th>         <td>    0.0658</td> <td>    0.007</td> <td>    9.162</td> <td> 0.000</td> <td>    0.052</td> <td>    0.080</td>\n",
       "</tr>\n",
       "<tr>\n",
       "  <th>sqft_living</th>       <td>    0.3825</td> <td>    0.009</td> <td>   41.737</td> <td> 0.000</td> <td>    0.365</td> <td>    0.400</td>\n",
       "</tr>\n",
       "<tr>\n",
       "  <th>sqft_lot</th>          <td>   -0.0295</td> <td>    0.006</td> <td>   -5.291</td> <td> 0.000</td> <td>   -0.040</td> <td>   -0.019</td>\n",
       "</tr>\n",
       "<tr>\n",
       "  <th>floors</th>            <td>    0.0631</td> <td>    0.006</td> <td>   10.037</td> <td> 0.000</td> <td>    0.051</td> <td>    0.075</td>\n",
       "</tr>\n",
       "<tr>\n",
       "  <th>condition</th>         <td>    0.0769</td> <td>    0.005</td> <td>   16.813</td> <td> 0.000</td> <td>    0.068</td> <td>    0.086</td>\n",
       "</tr>\n",
       "<tr>\n",
       "  <th>grade</th>             <td>    0.4151</td> <td>    0.007</td> <td>   62.181</td> <td> 0.000</td> <td>    0.402</td> <td>    0.428</td>\n",
       "</tr>\n",
       "<tr>\n",
       "  <th>yr_built</th>          <td>   -0.2357</td> <td>    0.006</td> <td>  -37.489</td> <td> 0.000</td> <td>   -0.248</td> <td>   -0.223</td>\n",
       "</tr>\n",
       "<tr>\n",
       "  <th>lat</th>               <td>    0.3728</td> <td>    0.004</td> <td>   84.571</td> <td> 0.000</td> <td>    0.364</td> <td>    0.381</td>\n",
       "</tr>\n",
       "<tr>\n",
       "  <th>long</th>              <td>    0.0166</td> <td>    0.005</td> <td>    3.263</td> <td> 0.001</td> <td>    0.007</td> <td>    0.027</td>\n",
       "</tr>\n",
       "<tr>\n",
       "  <th>is_renovated_True</th> <td>    0.0317</td> <td>    0.004</td> <td>    7.269</td> <td> 0.000</td> <td>    0.023</td> <td>    0.040</td>\n",
       "</tr>\n",
       "<tr>\n",
       "  <th>has_basement_True</th> <td>    0.0153</td> <td>    0.005</td> <td>    2.894</td> <td> 0.004</td> <td>    0.005</td> <td>    0.026</td>\n",
       "</tr>\n",
       "<tr>\n",
       "  <th>season_spring</th>     <td>    0.0329</td> <td>    0.005</td> <td>    6.139</td> <td> 0.000</td> <td>    0.022</td> <td>    0.043</td>\n",
       "</tr>\n",
       "<tr>\n",
       "  <th>season_summer</th>     <td>    0.0035</td> <td>    0.005</td> <td>    0.661</td> <td> 0.509</td> <td>   -0.007</td> <td>    0.014</td>\n",
       "</tr>\n",
       "<tr>\n",
       "  <th>season_winter</th>     <td>    0.0292</td> <td>    0.005</td> <td>    5.714</td> <td> 0.000</td> <td>    0.019</td> <td>    0.039</td>\n",
       "</tr>\n",
       "</table>\n",
       "<table class=\"simpletable\">\n",
       "<tr>\n",
       "  <th>Omnibus:</th>       <td>703.959</td> <th>  Durbin-Watson:     </th> <td>   1.992</td> \n",
       "</tr>\n",
       "<tr>\n",
       "  <th>Prob(Omnibus):</th> <td> 0.000</td>  <th>  Jarque-Bera (JB):  </th> <td>1393.329</td> \n",
       "</tr>\n",
       "<tr>\n",
       "  <th>Skew:</th>          <td> 0.321</td>  <th>  Prob(JB):          </th> <td>2.77e-303</td>\n",
       "</tr>\n",
       "<tr>\n",
       "  <th>Kurtosis:</th>      <td> 4.290</td>  <th>  Cond. No.          </th> <td>    5.10</td> \n",
       "</tr>\n",
       "</table><br/><br/>Notes:<br/>[1] Standard Errors assume that the covariance matrix of the errors is correctly specified."
      ],
      "text/plain": [
       "<class 'statsmodels.iolib.summary.Summary'>\n",
       "\"\"\"\n",
       "                            OLS Regression Results                            \n",
       "==============================================================================\n",
       "Dep. Variable:                  price   R-squared:                       0.723\n",
       "Model:                            OLS   Adj. R-squared:                  0.723\n",
       "Method:                 Least Squares   F-statistic:                     2798.\n",
       "Date:                Tue, 24 Aug 2021   Prob (F-statistic):               0.00\n",
       "Time:                        11:20:48   Log-Likelihood:                -12508.\n",
       "No. Observations:               16105   AIC:                         2.505e+04\n",
       "Df Residuals:                   16089   BIC:                         2.517e+04\n",
       "Df Model:                          15                                         \n",
       "Covariance Type:            nonrobust                                         \n",
       "=====================================================================================\n",
       "                        coef    std err          t      P>|t|      [0.025      0.975]\n",
       "-------------------------------------------------------------------------------------\n",
       "const                -0.0005      0.004     -0.116      0.908      -0.009       0.008\n",
       "bedrooms             -0.0744      0.006    -13.284      0.000      -0.085      -0.063\n",
       "bathrooms             0.0658      0.007      9.162      0.000       0.052       0.080\n",
       "sqft_living           0.3825      0.009     41.737      0.000       0.365       0.400\n",
       "sqft_lot             -0.0295      0.006     -5.291      0.000      -0.040      -0.019\n",
       "floors                0.0631      0.006     10.037      0.000       0.051       0.075\n",
       "condition             0.0769      0.005     16.813      0.000       0.068       0.086\n",
       "grade                 0.4151      0.007     62.181      0.000       0.402       0.428\n",
       "yr_built             -0.2357      0.006    -37.489      0.000      -0.248      -0.223\n",
       "lat                   0.3728      0.004     84.571      0.000       0.364       0.381\n",
       "long                  0.0166      0.005      3.263      0.001       0.007       0.027\n",
       "is_renovated_True     0.0317      0.004      7.269      0.000       0.023       0.040\n",
       "has_basement_True     0.0153      0.005      2.894      0.004       0.005       0.026\n",
       "season_spring         0.0329      0.005      6.139      0.000       0.022       0.043\n",
       "season_summer         0.0035      0.005      0.661      0.509      -0.007       0.014\n",
       "season_winter         0.0292      0.005      5.714      0.000       0.019       0.039\n",
       "==============================================================================\n",
       "Omnibus:                      703.959   Durbin-Watson:                   1.992\n",
       "Prob(Omnibus):                  0.000   Jarque-Bera (JB):             1393.329\n",
       "Skew:                           0.321   Prob(JB):                    2.77e-303\n",
       "Kurtosis:                       4.290   Cond. No.                         5.10\n",
       "==============================================================================\n",
       "\n",
       "Notes:\n",
       "[1] Standard Errors assume that the covariance matrix of the errors is correctly specified.\n",
       "\"\"\""
      ]
     },
     "execution_count": 70,
     "metadata": {},
     "output_type": "execute_result"
    }
   ],
   "source": [
    "pred = sm.add_constant(X_train)\n",
    "model = sm.OLS(endog=y_train, exog=pred).fit()\n",
    "model.summary()"
   ]
  },
  {
   "cell_type": "code",
   "execution_count": 72,
   "metadata": {},
   "outputs": [
    {
     "data": {
      "text/html": [
       "<div>\n",
       "<style scoped>\n",
       "    .dataframe tbody tr th:only-of-type {\n",
       "        vertical-align: middle;\n",
       "    }\n",
       "\n",
       "    .dataframe tbody tr th {\n",
       "        vertical-align: top;\n",
       "    }\n",
       "\n",
       "    .dataframe thead th {\n",
       "        text-align: right;\n",
       "    }\n",
       "</style>\n",
       "<table border=\"1\" class=\"dataframe\">\n",
       "  <thead>\n",
       "    <tr style=\"text-align: right;\">\n",
       "      <th></th>\n",
       "      <th>price</th>\n",
       "      <th>bedrooms</th>\n",
       "      <th>bathrooms</th>\n",
       "      <th>sqft_living</th>\n",
       "      <th>sqft_lot</th>\n",
       "      <th>floors</th>\n",
       "      <th>condition</th>\n",
       "      <th>grade</th>\n",
       "      <th>yr_built</th>\n",
       "      <th>lat</th>\n",
       "      <th>long</th>\n",
       "      <th>is_renovated_True</th>\n",
       "      <th>has_basement_True</th>\n",
       "      <th>season_spring</th>\n",
       "      <th>season_summer</th>\n",
       "      <th>season_winter</th>\n",
       "    </tr>\n",
       "  </thead>\n",
       "  <tbody>\n",
       "    <tr>\n",
       "      <th>count</th>\n",
       "      <td>2.013200e+04</td>\n",
       "      <td>2.013200e+04</td>\n",
       "      <td>2.013200e+04</td>\n",
       "      <td>2.013200e+04</td>\n",
       "      <td>2.013200e+04</td>\n",
       "      <td>2.013200e+04</td>\n",
       "      <td>2.013200e+04</td>\n",
       "      <td>2.013200e+04</td>\n",
       "      <td>2.013200e+04</td>\n",
       "      <td>2.013200e+04</td>\n",
       "      <td>2.013200e+04</td>\n",
       "      <td>2.013200e+04</td>\n",
       "      <td>2.013200e+04</td>\n",
       "      <td>2.013200e+04</td>\n",
       "      <td>2.013200e+04</td>\n",
       "      <td>2.013200e+04</td>\n",
       "    </tr>\n",
       "    <tr>\n",
       "      <th>mean</th>\n",
       "      <td>-2.823536e-17</td>\n",
       "      <td>1.655298e-16</td>\n",
       "      <td>2.484711e-16</td>\n",
       "      <td>-1.214120e-16</td>\n",
       "      <td>3.952950e-17</td>\n",
       "      <td>-1.920004e-16</td>\n",
       "      <td>1.581180e-16</td>\n",
       "      <td>2.258828e-17</td>\n",
       "      <td>-1.513415e-15</td>\n",
       "      <td>9.803933e-15</td>\n",
       "      <td>-4.399986e-14</td>\n",
       "      <td>4.941187e-17</td>\n",
       "      <td>-1.835298e-17</td>\n",
       "      <td>2.400005e-17</td>\n",
       "      <td>8.823549e-18</td>\n",
       "      <td>5.929425e-17</td>\n",
       "    </tr>\n",
       "    <tr>\n",
       "      <th>std</th>\n",
       "      <td>1.000025e+00</td>\n",
       "      <td>1.000025e+00</td>\n",
       "      <td>1.000025e+00</td>\n",
       "      <td>1.000025e+00</td>\n",
       "      <td>1.000025e+00</td>\n",
       "      <td>1.000025e+00</td>\n",
       "      <td>1.000025e+00</td>\n",
       "      <td>1.000025e+00</td>\n",
       "      <td>1.000025e+00</td>\n",
       "      <td>1.000025e+00</td>\n",
       "      <td>1.000025e+00</td>\n",
       "      <td>1.000025e+00</td>\n",
       "      <td>1.000025e+00</td>\n",
       "      <td>1.000025e+00</td>\n",
       "      <td>1.000025e+00</td>\n",
       "      <td>1.000025e+00</td>\n",
       "    </tr>\n",
       "    <tr>\n",
       "      <th>min</th>\n",
       "      <td>-1.452817e+00</td>\n",
       "      <td>-2.569505e+00</td>\n",
       "      <td>-2.220754e+00</td>\n",
       "      <td>-2.065050e+00</td>\n",
       "      <td>-8.773152e-01</td>\n",
       "      <td>-8.983644e-01</td>\n",
       "      <td>-3.701661e+00</td>\n",
       "      <td>-4.238595e+00</td>\n",
       "      <td>-2.393528e+00</td>\n",
       "      <td>-2.938884e+00</td>\n",
       "      <td>-2.143952e+00</td>\n",
       "      <td>-1.879639e-01</td>\n",
       "      <td>-8.037298e-01</td>\n",
       "      <td>-6.775338e-01</td>\n",
       "      <td>-6.149382e-01</td>\n",
       "      <td>-4.861908e-01</td>\n",
       "    </tr>\n",
       "    <tr>\n",
       "      <th>25%</th>\n",
       "      <td>-6.547857e-01</td>\n",
       "      <td>-3.852223e-01</td>\n",
       "      <td>-8.301622e-01</td>\n",
       "      <td>-7.513757e-01</td>\n",
       "      <td>-4.543448e-01</td>\n",
       "      <td>-8.983644e-01</td>\n",
       "      <td>-6.363062e-01</td>\n",
       "      <td>-5.405931e-01</td>\n",
       "      <td>-6.589954e-01</td>\n",
       "      <td>-6.340641e-01</td>\n",
       "      <td>-8.121941e-01</td>\n",
       "      <td>-1.879639e-01</td>\n",
       "      <td>-8.037298e-01</td>\n",
       "      <td>-6.775338e-01</td>\n",
       "      <td>-6.149382e-01</td>\n",
       "      <td>-4.861908e-01</td>\n",
       "    </tr>\n",
       "    <tr>\n",
       "      <th>50%</th>\n",
       "      <td>-2.334920e-01</td>\n",
       "      <td>-3.852223e-01</td>\n",
       "      <td>-1.348664e-01</td>\n",
       "      <td>-1.576960e-01</td>\n",
       "      <td>-2.219471e-01</td>\n",
       "      <td>-8.983644e-01</td>\n",
       "      <td>-6.363062e-01</td>\n",
       "      <td>-5.405931e-01</td>\n",
       "      <td>8.923433e-02</td>\n",
       "      <td>8.763978e-02</td>\n",
       "      <td>-1.573517e-01</td>\n",
       "      <td>-1.879639e-01</td>\n",
       "      <td>-8.037298e-01</td>\n",
       "      <td>-6.775338e-01</td>\n",
       "      <td>-6.149382e-01</td>\n",
       "      <td>-4.861908e-01</td>\n",
       "    </tr>\n",
       "    <tr>\n",
       "      <th>75%</th>\n",
       "      <td>3.660286e-01</td>\n",
       "      <td>7.069190e-01</td>\n",
       "      <td>5.604294e-01</td>\n",
       "      <td>6.001931e-01</td>\n",
       "      <td>2.397527e-02</td>\n",
       "      <td>9.541268e-01</td>\n",
       "      <td>8.963710e-01</td>\n",
       "      <td>3.839074e-01</td>\n",
       "      <td>8.714745e-01</td>\n",
       "      <td>8.513285e-01</td>\n",
       "      <td>6.152152e-01</td>\n",
       "      <td>-1.879639e-01</td>\n",
       "      <td>1.244199e+00</td>\n",
       "      <td>1.475941e+00</td>\n",
       "      <td>1.626180e+00</td>\n",
       "      <td>-4.861908e-01</td>\n",
       "    </tr>\n",
       "    <tr>\n",
       "      <th>max</th>\n",
       "      <td>1.039129e+01</td>\n",
       "      <td>3.237902e+01</td>\n",
       "      <td>7.513387e+00</td>\n",
       "      <td>3.568592e+00</td>\n",
       "      <td>1.141149e+01</td>\n",
       "      <td>3.732864e+00</td>\n",
       "      <td>2.429048e+00</td>\n",
       "      <td>4.081909e+00</td>\n",
       "      <td>1.517673e+00</td>\n",
       "      <td>1.561450e+00</td>\n",
       "      <td>6.663311e+00</td>\n",
       "      <td>5.320171e+00</td>\n",
       "      <td>1.244199e+00</td>\n",
       "      <td>1.475941e+00</td>\n",
       "      <td>1.626180e+00</td>\n",
       "      <td>2.056806e+00</td>\n",
       "    </tr>\n",
       "  </tbody>\n",
       "</table>\n",
       "</div>"
      ],
      "text/plain": [
       "              price      bedrooms     bathrooms   sqft_living      sqft_lot  \\\n",
       "count  2.013200e+04  2.013200e+04  2.013200e+04  2.013200e+04  2.013200e+04   \n",
       "mean  -2.823536e-17  1.655298e-16  2.484711e-16 -1.214120e-16  3.952950e-17   \n",
       "std    1.000025e+00  1.000025e+00  1.000025e+00  1.000025e+00  1.000025e+00   \n",
       "min   -1.452817e+00 -2.569505e+00 -2.220754e+00 -2.065050e+00 -8.773152e-01   \n",
       "25%   -6.547857e-01 -3.852223e-01 -8.301622e-01 -7.513757e-01 -4.543448e-01   \n",
       "50%   -2.334920e-01 -3.852223e-01 -1.348664e-01 -1.576960e-01 -2.219471e-01   \n",
       "75%    3.660286e-01  7.069190e-01  5.604294e-01  6.001931e-01  2.397527e-02   \n",
       "max    1.039129e+01  3.237902e+01  7.513387e+00  3.568592e+00  1.141149e+01   \n",
       "\n",
       "             floors     condition         grade      yr_built           lat  \\\n",
       "count  2.013200e+04  2.013200e+04  2.013200e+04  2.013200e+04  2.013200e+04   \n",
       "mean  -1.920004e-16  1.581180e-16  2.258828e-17 -1.513415e-15  9.803933e-15   \n",
       "std    1.000025e+00  1.000025e+00  1.000025e+00  1.000025e+00  1.000025e+00   \n",
       "min   -8.983644e-01 -3.701661e+00 -4.238595e+00 -2.393528e+00 -2.938884e+00   \n",
       "25%   -8.983644e-01 -6.363062e-01 -5.405931e-01 -6.589954e-01 -6.340641e-01   \n",
       "50%   -8.983644e-01 -6.363062e-01 -5.405931e-01  8.923433e-02  8.763978e-02   \n",
       "75%    9.541268e-01  8.963710e-01  3.839074e-01  8.714745e-01  8.513285e-01   \n",
       "max    3.732864e+00  2.429048e+00  4.081909e+00  1.517673e+00  1.561450e+00   \n",
       "\n",
       "               long  is_renovated_True  has_basement_True  season_spring  \\\n",
       "count  2.013200e+04       2.013200e+04       2.013200e+04   2.013200e+04   \n",
       "mean  -4.399986e-14       4.941187e-17      -1.835298e-17   2.400005e-17   \n",
       "std    1.000025e+00       1.000025e+00       1.000025e+00   1.000025e+00   \n",
       "min   -2.143952e+00      -1.879639e-01      -8.037298e-01  -6.775338e-01   \n",
       "25%   -8.121941e-01      -1.879639e-01      -8.037298e-01  -6.775338e-01   \n",
       "50%   -1.573517e-01      -1.879639e-01      -8.037298e-01  -6.775338e-01   \n",
       "75%    6.152152e-01      -1.879639e-01       1.244199e+00   1.475941e+00   \n",
       "max    6.663311e+00       5.320171e+00       1.244199e+00   1.475941e+00   \n",
       "\n",
       "       season_summer  season_winter  \n",
       "count   2.013200e+04   2.013200e+04  \n",
       "mean    8.823549e-18   5.929425e-17  \n",
       "std     1.000025e+00   1.000025e+00  \n",
       "min    -6.149382e-01  -4.861908e-01  \n",
       "25%    -6.149382e-01  -4.861908e-01  \n",
       "50%    -6.149382e-01  -4.861908e-01  \n",
       "75%     1.626180e+00  -4.861908e-01  \n",
       "max     1.626180e+00   2.056806e+00  "
      ]
     },
     "execution_count": 72,
     "metadata": {},
     "output_type": "execute_result"
    }
   ],
   "source": [
    "dummy_scaled = (dummy - np.mean(dummy))/ np.std(dummy)\n",
    "dummy_scaled.describe()"
   ]
  },
  {
   "cell_type": "code",
   "execution_count": null,
   "metadata": {},
   "outputs": [],
   "source": []
  },
  {
   "cell_type": "code",
   "execution_count": null,
   "metadata": {},
   "outputs": [],
   "source": []
  },
  {
   "cell_type": "markdown",
   "metadata": {},
   "source": [
    "# Train"
   ]
  },
  {
   "cell_type": "code",
   "execution_count": 73,
   "metadata": {},
   "outputs": [],
   "source": [
    "y = dummy_scaled['price']\n",
    "X = dummy_scaled.drop(['price'], axis=1)"
   ]
  },
  {
   "cell_type": "code",
   "execution_count": 74,
   "metadata": {},
   "outputs": [],
   "source": [
    "from sklearn.model_selection import train_test_split\n",
    "X_train, X_test, y_train, y_test = train_test_split(X, y, test_size=0.2, random_state=42)"
   ]
  },
  {
   "cell_type": "code",
   "execution_count": null,
   "metadata": {},
   "outputs": [],
   "source": [
    "print(len(X_train), len(X_test), len(y_train), len(y_test))\n"
   ]
  },
  {
   "cell_type": "code",
   "execution_count": 75,
   "metadata": {},
   "outputs": [
    {
     "data": {
      "text/html": [
       "<table class=\"simpletable\">\n",
       "<caption>OLS Regression Results</caption>\n",
       "<tr>\n",
       "  <th>Dep. Variable:</th>          <td>price</td>      <th>  R-squared:         </th> <td>   0.641</td> \n",
       "</tr>\n",
       "<tr>\n",
       "  <th>Model:</th>                   <td>OLS</td>       <th>  Adj. R-squared:    </th> <td>   0.641</td> \n",
       "</tr>\n",
       "<tr>\n",
       "  <th>Method:</th>             <td>Least Squares</td>  <th>  F-statistic:       </th> <td>   1915.</td> \n",
       "</tr>\n",
       "<tr>\n",
       "  <th>Date:</th>             <td>Tue, 24 Aug 2021</td> <th>  Prob (F-statistic):</th>  <td>  0.00</td>  \n",
       "</tr>\n",
       "<tr>\n",
       "  <th>Time:</th>                 <td>11:33:50</td>     <th>  Log-Likelihood:    </th> <td> -14536.</td> \n",
       "</tr>\n",
       "<tr>\n",
       "  <th>No. Observations:</th>      <td> 16105</td>      <th>  AIC:               </th> <td>2.910e+04</td>\n",
       "</tr>\n",
       "<tr>\n",
       "  <th>Df Residuals:</th>          <td> 16089</td>      <th>  BIC:               </th> <td>2.923e+04</td>\n",
       "</tr>\n",
       "<tr>\n",
       "  <th>Df Model:</th>              <td>    15</td>      <th>                     </th>     <td> </td>    \n",
       "</tr>\n",
       "<tr>\n",
       "  <th>Covariance Type:</th>      <td>nonrobust</td>    <th>                     </th>     <td> </td>    \n",
       "</tr>\n",
       "</table>\n",
       "<table class=\"simpletable\">\n",
       "<tr>\n",
       "          <td></td>             <th>coef</th>     <th>std err</th>      <th>t</th>      <th>P>|t|</th>  <th>[0.025</th>    <th>0.975]</th>  \n",
       "</tr>\n",
       "<tr>\n",
       "  <th>const</th>             <td>   -0.0013</td> <td>    0.005</td> <td>   -0.270</td> <td> 0.787</td> <td>   -0.010</td> <td>    0.008</td>\n",
       "</tr>\n",
       "<tr>\n",
       "  <th>bedrooms</th>          <td>   -0.0794</td> <td>    0.006</td> <td>  -13.310</td> <td> 0.000</td> <td>   -0.091</td> <td>   -0.068</td>\n",
       "</tr>\n",
       "<tr>\n",
       "  <th>bathrooms</th>         <td>    0.0687</td> <td>    0.008</td> <td>    8.620</td> <td> 0.000</td> <td>    0.053</td> <td>    0.084</td>\n",
       "</tr>\n",
       "<tr>\n",
       "  <th>sqft_living</th>       <td>    0.4084</td> <td>    0.009</td> <td>   43.989</td> <td> 0.000</td> <td>    0.390</td> <td>    0.427</td>\n",
       "</tr>\n",
       "<tr>\n",
       "  <th>sqft_lot</th>          <td>   -0.0144</td> <td>    0.005</td> <td>   -2.773</td> <td> 0.006</td> <td>   -0.025</td> <td>   -0.004</td>\n",
       "</tr>\n",
       "<tr>\n",
       "  <th>floors</th>            <td>    0.0354</td> <td>    0.006</td> <td>    5.515</td> <td> 0.000</td> <td>    0.023</td> <td>    0.048</td>\n",
       "</tr>\n",
       "<tr>\n",
       "  <th>condition</th>         <td>    0.0734</td> <td>    0.005</td> <td>   14.079</td> <td> 0.000</td> <td>    0.063</td> <td>    0.084</td>\n",
       "</tr>\n",
       "<tr>\n",
       "  <th>grade</th>             <td>    0.4099</td> <td>    0.008</td> <td>   53.236</td> <td> 0.000</td> <td>    0.395</td> <td>    0.425</td>\n",
       "</tr>\n",
       "<tr>\n",
       "  <th>yr_built</th>          <td>   -0.2443</td> <td>    0.007</td> <td>  -34.290</td> <td> 0.000</td> <td>   -0.258</td> <td>   -0.230</td>\n",
       "</tr>\n",
       "<tr>\n",
       "  <th>lat</th>               <td>    0.2478</td> <td>    0.005</td> <td>   49.868</td> <td> 0.000</td> <td>    0.238</td> <td>    0.258</td>\n",
       "</tr>\n",
       "<tr>\n",
       "  <th>long</th>              <td>   -0.0316</td> <td>    0.006</td> <td>   -5.589</td> <td> 0.000</td> <td>   -0.043</td> <td>   -0.021</td>\n",
       "</tr>\n",
       "<tr>\n",
       "  <th>is_renovated_True</th> <td>    0.0454</td> <td>    0.005</td> <td>    9.154</td> <td> 0.000</td> <td>    0.036</td> <td>    0.055</td>\n",
       "</tr>\n",
       "<tr>\n",
       "  <th>has_basement_True</th> <td>   -0.0053</td> <td>    0.006</td> <td>   -0.934</td> <td> 0.350</td> <td>   -0.016</td> <td>    0.006</td>\n",
       "</tr>\n",
       "<tr>\n",
       "  <th>season_spring</th>     <td>    0.0233</td> <td>    0.006</td> <td>    3.827</td> <td> 0.000</td> <td>    0.011</td> <td>    0.035</td>\n",
       "</tr>\n",
       "<tr>\n",
       "  <th>season_summer</th>     <td>   -0.0019</td> <td>    0.006</td> <td>   -0.319</td> <td> 0.750</td> <td>   -0.014</td> <td>    0.010</td>\n",
       "</tr>\n",
       "<tr>\n",
       "  <th>season_winter</th>     <td>    0.0306</td> <td>    0.006</td> <td>    5.279</td> <td> 0.000</td> <td>    0.019</td> <td>    0.042</td>\n",
       "</tr>\n",
       "</table>\n",
       "<table class=\"simpletable\">\n",
       "<tr>\n",
       "  <th>Omnibus:</th>       <td>9877.861</td> <th>  Durbin-Watson:     </th>  <td>   2.014</td> \n",
       "</tr>\n",
       "<tr>\n",
       "  <th>Prob(Omnibus):</th>  <td> 0.000</td>  <th>  Jarque-Bera (JB):  </th> <td>207557.465</td>\n",
       "</tr>\n",
       "<tr>\n",
       "  <th>Skew:</th>           <td> 2.572</td>  <th>  Prob(JB):          </th>  <td>    0.00</td> \n",
       "</tr>\n",
       "<tr>\n",
       "  <th>Kurtosis:</th>       <td>19.818</td>  <th>  Cond. No.          </th>  <td>    4.62</td> \n",
       "</tr>\n",
       "</table><br/><br/>Notes:<br/>[1] Standard Errors assume that the covariance matrix of the errors is correctly specified."
      ],
      "text/plain": [
       "<class 'statsmodels.iolib.summary.Summary'>\n",
       "\"\"\"\n",
       "                            OLS Regression Results                            \n",
       "==============================================================================\n",
       "Dep. Variable:                  price   R-squared:                       0.641\n",
       "Model:                            OLS   Adj. R-squared:                  0.641\n",
       "Method:                 Least Squares   F-statistic:                     1915.\n",
       "Date:                Tue, 24 Aug 2021   Prob (F-statistic):               0.00\n",
       "Time:                        11:33:50   Log-Likelihood:                -14536.\n",
       "No. Observations:               16105   AIC:                         2.910e+04\n",
       "Df Residuals:                   16089   BIC:                         2.923e+04\n",
       "Df Model:                          15                                         \n",
       "Covariance Type:            nonrobust                                         \n",
       "=====================================================================================\n",
       "                        coef    std err          t      P>|t|      [0.025      0.975]\n",
       "-------------------------------------------------------------------------------------\n",
       "const                -0.0013      0.005     -0.270      0.787      -0.010       0.008\n",
       "bedrooms             -0.0794      0.006    -13.310      0.000      -0.091      -0.068\n",
       "bathrooms             0.0687      0.008      8.620      0.000       0.053       0.084\n",
       "sqft_living           0.4084      0.009     43.989      0.000       0.390       0.427\n",
       "sqft_lot             -0.0144      0.005     -2.773      0.006      -0.025      -0.004\n",
       "floors                0.0354      0.006      5.515      0.000       0.023       0.048\n",
       "condition             0.0734      0.005     14.079      0.000       0.063       0.084\n",
       "grade                 0.4099      0.008     53.236      0.000       0.395       0.425\n",
       "yr_built             -0.2443      0.007    -34.290      0.000      -0.258      -0.230\n",
       "lat                   0.2478      0.005     49.868      0.000       0.238       0.258\n",
       "long                 -0.0316      0.006     -5.589      0.000      -0.043      -0.021\n",
       "is_renovated_True     0.0454      0.005      9.154      0.000       0.036       0.055\n",
       "has_basement_True    -0.0053      0.006     -0.934      0.350      -0.016       0.006\n",
       "season_spring         0.0233      0.006      3.827      0.000       0.011       0.035\n",
       "season_summer        -0.0019      0.006     -0.319      0.750      -0.014       0.010\n",
       "season_winter         0.0306      0.006      5.279      0.000       0.019       0.042\n",
       "==============================================================================\n",
       "Omnibus:                     9877.861   Durbin-Watson:                   2.014\n",
       "Prob(Omnibus):                  0.000   Jarque-Bera (JB):           207557.465\n",
       "Skew:                           2.572   Prob(JB):                         0.00\n",
       "Kurtosis:                      19.818   Cond. No.                         4.62\n",
       "==============================================================================\n",
       "\n",
       "Notes:\n",
       "[1] Standard Errors assume that the covariance matrix of the errors is correctly specified.\n",
       "\"\"\""
      ]
     },
     "execution_count": 75,
     "metadata": {},
     "output_type": "execute_result"
    }
   ],
   "source": [
    "pred = sm.add_constant(X_train)\n",
    "model = sm.OLS(endog=y_train, exog=pred).fit()\n",
    "model.summary()"
   ]
  },
  {
   "cell_type": "code",
   "execution_count": null,
   "metadata": {},
   "outputs": [],
   "source": [
    "dummy_scaled.hist(figsize=[10,10])"
   ]
  },
  {
   "cell_type": "code",
   "execution_count": null,
   "metadata": {},
   "outputs": [],
   "source": []
  },
  {
   "cell_type": "code",
   "execution_count": null,
   "metadata": {},
   "outputs": [],
   "source": []
  },
  {
   "cell_type": "code",
   "execution_count": null,
   "metadata": {},
   "outputs": [],
   "source": [
    "dummy_log.drop(labels= ['lat', 'long'], axis=1, inplace=True)\n",
    "dummy_log"
   ]
  },
  {
   "cell_type": "code",
   "execution_count": null,
   "metadata": {},
   "outputs": [],
   "source": [
    "#Possibly get rid of some variables in rfv \n",
    "#transfomrations \n",
    "#drop some variables(log, lat )\n",
    "\n",
    "#Questions to ask Lindsey\n",
    "#"
   ]
  }
 ],
 "metadata": {
  "kernelspec": {
   "display_name": "Python (learn-env)",
   "language": "python",
   "name": "learn-env"
  },
  "language_info": {
   "codemirror_mode": {
    "name": "ipython",
    "version": 3
   },
   "file_extension": ".py",
   "mimetype": "text/x-python",
   "name": "python",
   "nbconvert_exporter": "python",
   "pygments_lexer": "ipython3",
   "version": "3.8.5"
  }
 },
 "nbformat": 4,
 "nbformat_minor": 4
}
